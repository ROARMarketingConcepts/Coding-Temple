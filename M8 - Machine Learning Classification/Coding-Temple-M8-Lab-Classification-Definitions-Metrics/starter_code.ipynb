{
 "cells": [
  {
   "cell_type": "markdown",
   "metadata": {
    "id": "wIdNmjY2AXVf"
   },
   "source": [
    "<img src=\"https://coursereport-s3-production.global.ssl.fastly.net/uploads/school/logo/219/original/CT_LOGO_NEW.jpg\" style=\"float: left; margin: 15px; height: 80px\">\n",
    "\n",
    "# 🧪 Lab - Classification Definitions & Metrics\n",
    "\n",
    "In this lab assignment, you will dive into classification metrics, sharpening your analytical skills in understanding and applying key measures such as accuracy, precision, specificity, sensitivity, and misclassification rate."
   ]
  },
  {
   "cell_type": "markdown",
   "metadata": {
    "id": "nief4FCWAXVj"
   },
   "source": [
    "---\n",
    "# Conceptual"
   ]
  },
  {
   "cell_type": "markdown",
   "metadata": {
    "id": "boQlzH6VAXVk"
   },
   "source": [
    "**Q:** Define regression.\n",
    "\n",
    "> **Answer:**  Regression a machine learning technique to predict a continuous outcome variable (or dependent variable) based on one or more predictor variables (or independent variables). Essentially, it tries to find the “best fit” line or curve that can explain the relationship between these variables."
   ]
  },
  {
   "cell_type": "markdown",
   "metadata": {
    "id": "P6i-pVKxAXVk"
   },
   "source": [
    "**Q:** Define classification.\n",
    "\n",
    "> **Answer:**  Machine learning classification is a type of supervised learning where the goal is to predict the categorical label of new observations based on past observations. Essentially, it’s about sorting data into specific categories or classes."
   ]
  },
  {
   "cell_type": "markdown",
   "metadata": {
    "id": "AaHm3IblAXVk"
   },
   "source": [
    "**Q:** Define confusion matrix.\n",
    "\n",
    "> **Answer:** A typical confusion matrix for a binary classification problem has four key components:\n",
    "\n",
    "*  True Positives (TP): The number of instances correctly predicted as positive.\n",
    "*   True Negatives (TN): The number of instances correctly predicted as negative.\n",
    "*   False Positives (FP): The number of instances incorrectly predicted as positive (also known as Type I error).\n",
    "*  False Negatives (FN): The number of instances incorrectly predicted as negative (also known as Type II error)."
   ]
  },
  {
   "cell_type": "markdown",
   "metadata": {
    "id": "TxhrPJ3tAXVk"
   },
   "source": [
    "**Q:** Define `true positives`.\n",
    "\n",
    ">**Answer:**   "
   ]
  },
  {
   "cell_type": "markdown",
   "metadata": {
    "id": "lGziOZnjAXVk"
   },
   "source": [
    "**Q:** Define `true negatives`.\n",
    "\n",
    "> **Answer:**  "
   ]
  },
  {
   "cell_type": "markdown",
   "metadata": {
    "id": "J842l4wXAXVl"
   },
   "source": [
    "**Q:** Define `false positives`.\n",
    "\n",
    "> **Answer:**  "
   ]
  },
  {
   "cell_type": "markdown",
   "metadata": {
    "id": "PQnviXdLAXVl"
   },
   "source": [
    "**Q:** Define `false negatives`.\n",
    "\n",
    ">**Answer:**  "
   ]
  },
  {
   "cell_type": "markdown",
   "metadata": {
    "id": "XK7wI2DmAXVl"
   },
   "source": [
    "---\n",
    "# Calculations"
   ]
  },
  {
   "cell_type": "markdown",
   "metadata": {
    "id": "6en4DpLDAXVl"
   },
   "source": [
    "**Q:** Given the following confusion matrix, calculate the accuracy:\n",
    "\n",
    "| | Predicted Negative | Predicted Positive |\n",
    "| --- | --- | --- |\n",
    "| Actual Negative | 87 | 14 |\n",
    "| Actual Positive | 21 | 150 |\n",
    "\n",
    ">**Answer:**  Accuracy: The overall correctness of the model, calculated as $ (TP + TN) / (TP + TN + FP + FN) = (150 + 87)/(150 + 87 + 14 + 21) = 0.87$"
   ]
  },
  {
   "cell_type": "markdown",
   "metadata": {
    "id": "8UOwDoz1AXVl"
   },
   "source": [
    "**Q:** Given the following confusion matrix, calculate the misclassification rate:\n",
    "\n",
    "| | Predicted Negative | Predicted Positive |\n",
    "| --- | --- | --- |\n",
    "| Actual Negative | 87 | 14 |\n",
    "| Actual Positive | 21 | 150 |\n",
    "\n",
    "> **Answer:**  $1 - accuracy = 1 - 0.87 = 0.12$\n"
   ]
  },
  {
   "cell_type": "markdown",
   "metadata": {
    "id": "7MnPHyc3AXVm"
   },
   "source": [
    "**Q:** Given the following confusion matrix, calculate the sensitivity:\n",
    "\n",
    "| | Predicted Negative | Predicted Positive |\n",
    "| --- | --- | --- |\n",
    "| Actual Negative | 87 | 14 |\n",
    "| Actual Positive | 21 | 150 |\n",
    "> **Answer:**  $TP / (TP + FN) = 150/(150+21) = 0.877$\n"
   ]
  },
  {
   "cell_type": "markdown",
   "metadata": {
    "id": "LZmsWFiHAXVm"
   },
   "source": [
    "**Q:** Given the following confusion matrix, calculate the specificity:\n",
    "\n",
    "| | Predicted Negative | Predicted Positive |\n",
    "| --- | --- | --- |\n",
    "| Actual Negative | 87 | 14 |\n",
    "| Actual Positive | 21 | 150 |\n",
    "\n",
    "> **Answer:**  $TN / (TN + FP) = 87/(87 + 14) = 0.861$\n"
   ]
  },
  {
   "cell_type": "markdown",
   "metadata": {
    "id": "VN3xwandAXVm"
   },
   "source": [
    "**Q:** Given the following confusion matrix, calculate the precision:\n",
    "\n",
    "| | Predicted Negative | Predicted Positive |\n",
    "| --- | --- | --- |\n",
    "| Actual Negative | 87 | 14 |\n",
    "| Actual Positive | 21 | 150 |\n",
    "> **Answer:**  $TP/(TP + FP) = 150/(150 + 14) = 0.915$"
   ]
  },
  {
   "cell_type": "markdown",
   "metadata": {
    "id": "jbWGLqk9AXVm"
   },
   "source": [
    "---\n",
    "# Scenarios"
   ]
  },
  {
   "cell_type": "markdown",
   "metadata": {
    "id": "9AzlQtrWAXVn"
   },
   "source": [
    "**Q: Fraud Detection System**\n",
    "- Your team is developing a fraud detection system for online transactions. What classification metric should you primarily focus on to minimize the number of false positives, ensuring that legitimate transactions are not mistakenly flagged as fraudulent?\n",
    "\n",
    "> **Answer:**  precision"
   ]
  },
  {
   "cell_type": "markdown",
   "metadata": {
    "id": "uh9io_zIAXVn"
   },
   "source": [
    "**Q: Medical Diagnosis**\n",
    "- In a medical diagnosis model, which classification metric would be crucial to prioritize if the consequence of missing a positive case (e.g., a disease) is severe and should be minimized at all costs?\n",
    "> **Answer:**  recall = $TP/(TP + FN)$"
   ]
  },
  {
   "cell_type": "markdown",
   "metadata": {
    "id": "1qLldmZ-AXVn"
   },
   "source": [
    "**Q: Email Spam Filter**\n",
    "- As part of enhancing an email spam filter, which classification metric should you emphasize to reduce the likelihood of legitimate emails being incorrectly marked as spam, thus avoiding disruptions to normal communication?\n",
    "> **Answer:**  precision = $TP/(TP + FP)$"
   ]
  },
  {
   "cell_type": "markdown",
   "metadata": {
    "id": "0d6jEmKBAXVn"
   },
   "source": [
    "**Q: Quality Control in Manufacturing**\n",
    "- You are implementing a model for quality control in manufacturing, where identifying defective products is critical. Which classification metric would be most relevant for ensuring that the model effectively identifies all defective items with minimal false negatives?\n",
    "> **Answer:** recall = $TP / (TP+FN)$"
   ]
  },
  {
   "cell_type": "markdown",
   "metadata": {
    "id": "Bke5GwloAXVn"
   },
   "source": [
    "**Q: Credit Scoring System**\n",
    "- Developing a credit scoring system for loan approval, which classification metric should be a key focus to ensure that the model minimizes the risk of approving a loan to someone who later defaults?\n",
    "> **Answer:**  minimize fp, so precision"
   ]
  }
 ],
 "metadata": {
  "colab": {
   "provenance": []
  },
  "kernelspec": {
   "display_name": "Python 3 (ipykernel)",
   "language": "python",
   "name": "python3"
  },
  "language_info": {
   "codemirror_mode": {
    "name": "ipython",
    "version": 3
   },
   "file_extension": ".py",
   "mimetype": "text/x-python",
   "name": "python",
   "nbconvert_exporter": "python",
   "pygments_lexer": "ipython3",
   "version": "3.11.5"
  }
 },
 "nbformat": 4,
 "nbformat_minor": 0
}
