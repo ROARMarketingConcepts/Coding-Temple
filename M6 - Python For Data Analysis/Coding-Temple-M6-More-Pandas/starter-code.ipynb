{
 "cells": [
  {
   "cell_type": "markdown",
   "metadata": {},
   "source": [
    "<div style=\"display: flex; align-items: center; justify-content: center; text-align: center;\">\n",
    "  <img src=\"https://coursereport-s3-production.global.ssl.fastly.net/uploads/school/logo/219/original/CT_LOGO_NEW.jpg\" width=\"100\" style=\"margin-right: 10px;\">\n",
    "  <div>\n",
    "    <h1><b>Lessons 04: Exploring Pandas: Intermediate Skills</b></h1>\n",
    "  </div>\n",
    "</div>\n",
    "<br>\n",
    "\n",
    "> In this lesson, we'll explore various datasets and cover essential concepts like dividing, combining, and applying operations to data. We'll also address how to handle missing values effectively and discuss methods for merging and combining different datasets. This practical session aims to equip you with the skills needed to manipulate and analyze diverse datasets confidently."
   ]
  },
  {
   "cell_type": "markdown",
   "metadata": {},
   "source": [
    "---"
   ]
  },
  {
   "cell_type": "markdown",
   "metadata": {},
   "source": [
    "# <span style=\"color:#D34B47\">📌 Reviewing Previous Concepts</span>"
   ]
  },
  {
   "cell_type": "code",
   "execution_count": 1,
   "metadata": {
    "tags": []
   },
   "outputs": [],
   "source": [
    "# Imports\n",
    "\n",
    "import pandas as pd\n",
    "import numpy as np\n",
    "import matplotlib.pyplot as plt\n",
    "import seaborn as sns\n",
    "\n"
   ]
  },
  {
   "cell_type": "markdown",
   "metadata": {
    "tags": []
   },
   "source": [
    "## <span style=\"color:#4CCFA2\">UFO Dataset 🛸</span>"
   ]
  },
  {
   "cell_type": "markdown",
   "metadata": {
    "tags": []
   },
   "source": [
    "## Read in the Data"
   ]
  },
  {
   "cell_type": "code",
   "execution_count": 2,
   "metadata": {
    "tags": []
   },
   "outputs": [],
   "source": [
    "\n",
    "ufo = pd.read_csv('/Users/woodzsan/Desktop/Machine Learning and Data Analysis/Coding Temple/6 - Python For Data Analysis/Lesson/Coding-Temple-M6-More-Pandas/data/ufo.csv')"
   ]
  },
  {
   "cell_type": "markdown",
   "metadata": {},
   "source": [
    "## Look at the data"
   ]
  },
  {
   "cell_type": "code",
   "execution_count": 3,
   "metadata": {},
   "outputs": [
    {
     "data": {
      "text/html": [
       "<div>\n",
       "<style scoped>\n",
       "    .dataframe tbody tr th:only-of-type {\n",
       "        vertical-align: middle;\n",
       "    }\n",
       "\n",
       "    .dataframe tbody tr th {\n",
       "        vertical-align: top;\n",
       "    }\n",
       "\n",
       "    .dataframe thead th {\n",
       "        text-align: right;\n",
       "    }\n",
       "</style>\n",
       "<table border=\"1\" class=\"dataframe\">\n",
       "  <thead>\n",
       "    <tr style=\"text-align: right;\">\n",
       "      <th></th>\n",
       "      <th>City</th>\n",
       "      <th>Colors Reported</th>\n",
       "      <th>Shape Reported</th>\n",
       "      <th>State</th>\n",
       "      <th>Time</th>\n",
       "    </tr>\n",
       "  </thead>\n",
       "  <tbody>\n",
       "    <tr>\n",
       "      <th>0</th>\n",
       "      <td>Ithaca</td>\n",
       "      <td>NaN</td>\n",
       "      <td>TRIANGLE</td>\n",
       "      <td>NY</td>\n",
       "      <td>6/1/1930 22:00</td>\n",
       "    </tr>\n",
       "    <tr>\n",
       "      <th>1</th>\n",
       "      <td>Willingboro</td>\n",
       "      <td>NaN</td>\n",
       "      <td>OTHER</td>\n",
       "      <td>NJ</td>\n",
       "      <td>6/30/1930 20:00</td>\n",
       "    </tr>\n",
       "    <tr>\n",
       "      <th>2</th>\n",
       "      <td>Holyoke</td>\n",
       "      <td>NaN</td>\n",
       "      <td>OVAL</td>\n",
       "      <td>CO</td>\n",
       "      <td>2/15/1931 14:00</td>\n",
       "    </tr>\n",
       "    <tr>\n",
       "      <th>3</th>\n",
       "      <td>Abilene</td>\n",
       "      <td>NaN</td>\n",
       "      <td>DISK</td>\n",
       "      <td>KS</td>\n",
       "      <td>6/1/1931 13:00</td>\n",
       "    </tr>\n",
       "    <tr>\n",
       "      <th>4</th>\n",
       "      <td>New York Worlds Fair</td>\n",
       "      <td>NaN</td>\n",
       "      <td>LIGHT</td>\n",
       "      <td>NY</td>\n",
       "      <td>4/18/1933 19:00</td>\n",
       "    </tr>\n",
       "  </tbody>\n",
       "</table>\n",
       "</div>"
      ],
      "text/plain": [
       "                   City Colors Reported Shape Reported State             Time\n",
       "0                Ithaca             NaN       TRIANGLE    NY   6/1/1930 22:00\n",
       "1           Willingboro             NaN          OTHER    NJ  6/30/1930 20:00\n",
       "2               Holyoke             NaN           OVAL    CO  2/15/1931 14:00\n",
       "3               Abilene             NaN           DISK    KS   6/1/1931 13:00\n",
       "4  New York Worlds Fair             NaN          LIGHT    NY  4/18/1933 19:00"
      ]
     },
     "execution_count": 3,
     "metadata": {},
     "output_type": "execute_result"
    }
   ],
   "source": [
    "\n",
    "# Display the first few rows of the DataFrame\n",
    "ufo.head()\n"
   ]
  },
  {
   "cell_type": "code",
   "execution_count": 4,
   "metadata": {},
   "outputs": [
    {
     "name": "stdout",
     "output_type": "stream",
     "text": [
      "Shape of the UFO dataset: (80543, 5)\n"
     ]
    }
   ],
   "source": [
    "\n",
    "# Check the shape of the DataFrame\n",
    "print(\"Shape of the UFO dataset:\", ufo.shape)\n"
   ]
  },
  {
   "cell_type": "code",
   "execution_count": 5,
   "metadata": {},
   "outputs": [
    {
     "name": "stdout",
     "output_type": "stream",
     "text": [
      "<class 'pandas.core.frame.DataFrame'>\n",
      "RangeIndex: 80543 entries, 0 to 80542\n",
      "Data columns (total 5 columns):\n",
      " #   Column           Non-Null Count  Dtype \n",
      "---  ------           --------------  ----- \n",
      " 0   City             80492 non-null  object\n",
      " 1   Colors Reported  17034 non-null  object\n",
      " 2   Shape Reported   72141 non-null  object\n",
      " 3   State            80543 non-null  object\n",
      " 4   Time             80543 non-null  object\n",
      "dtypes: object(5)\n",
      "memory usage: 3.1+ MB\n"
     ]
    }
   ],
   "source": [
    "\n",
    "# Display information about the DataFrame\n",
    "ufo.info()\n"
   ]
  },
  {
   "cell_type": "code",
   "execution_count": 6,
   "metadata": {},
   "outputs": [
    {
     "data": {
      "text/plain": [
       "City                  51\n",
       "Colors Reported    63509\n",
       "Shape Reported      8402\n",
       "State                  0\n",
       "Time                   0\n",
       "dtype: int64"
      ]
     },
     "execution_count": 6,
     "metadata": {},
     "output_type": "execute_result"
    }
   ],
   "source": [
    "\n",
    "# Check for missing values\n",
    "ufo.isnull().sum()\n"
   ]
  },
  {
   "cell_type": "code",
   "execution_count": 7,
   "metadata": {},
   "outputs": [
    {
     "data": {
      "text/html": [
       "<div>\n",
       "<style scoped>\n",
       "    .dataframe tbody tr th:only-of-type {\n",
       "        vertical-align: middle;\n",
       "    }\n",
       "\n",
       "    .dataframe tbody tr th {\n",
       "        vertical-align: top;\n",
       "    }\n",
       "\n",
       "    .dataframe thead th {\n",
       "        text-align: right;\n",
       "    }\n",
       "</style>\n",
       "<table border=\"1\" class=\"dataframe\">\n",
       "  <thead>\n",
       "    <tr style=\"text-align: right;\">\n",
       "      <th></th>\n",
       "      <th>City</th>\n",
       "      <th>Colors Reported</th>\n",
       "      <th>Shape Reported</th>\n",
       "      <th>State</th>\n",
       "      <th>Time</th>\n",
       "    </tr>\n",
       "  </thead>\n",
       "  <tbody>\n",
       "    <tr>\n",
       "      <th>count</th>\n",
       "      <td>80492</td>\n",
       "      <td>17034</td>\n",
       "      <td>72141</td>\n",
       "      <td>80543</td>\n",
       "      <td>80543</td>\n",
       "    </tr>\n",
       "    <tr>\n",
       "      <th>unique</th>\n",
       "      <td>13503</td>\n",
       "      <td>31</td>\n",
       "      <td>27</td>\n",
       "      <td>52</td>\n",
       "      <td>68901</td>\n",
       "    </tr>\n",
       "    <tr>\n",
       "      <th>top</th>\n",
       "      <td>Seattle</td>\n",
       "      <td>ORANGE</td>\n",
       "      <td>LIGHT</td>\n",
       "      <td>CA</td>\n",
       "      <td>7/4/2014 22:00</td>\n",
       "    </tr>\n",
       "    <tr>\n",
       "      <th>freq</th>\n",
       "      <td>646</td>\n",
       "      <td>5216</td>\n",
       "      <td>16332</td>\n",
       "      <td>10743</td>\n",
       "      <td>45</td>\n",
       "    </tr>\n",
       "  </tbody>\n",
       "</table>\n",
       "</div>"
      ],
      "text/plain": [
       "           City Colors Reported Shape Reported  State            Time\n",
       "count     80492           17034          72141  80543           80543\n",
       "unique    13503              31             27     52           68901\n",
       "top     Seattle          ORANGE          LIGHT     CA  7/4/2014 22:00\n",
       "freq        646            5216          16332  10743              45"
      ]
     },
     "execution_count": 7,
     "metadata": {},
     "output_type": "execute_result"
    }
   ],
   "source": [
    "\n",
    "# Display summary statistics of numerical columns\n",
    "ufo.describe()\n"
   ]
  },
  {
   "cell_type": "code",
   "execution_count": 8,
   "metadata": {},
   "outputs": [
    {
     "name": "stdout",
     "output_type": "stream",
     "text": [
      "Unique shapes reported: ['TRIANGLE' 'OTHER' 'OVAL' 'DISK' 'LIGHT' 'CIRCLE' 'CIGAR' 'CYLINDER'\n",
      " 'FIREBALL' 'SPHERE' nan 'RECTANGLE' 'FORMATION' 'FLASH' 'CHEVRON' 'EGG'\n",
      " 'CONE' 'DIAMOND' 'VARIOUS' 'TEARDROP' 'CROSS' 'DELTA' 'ROUND' 'DOME'\n",
      " 'PYRAMID' 'CRESCENT' 'FLARE' 'HEXAGON']\n"
     ]
    }
   ],
   "source": [
    "\n",
    "# Display unique values in the 'shape' column\n",
    "print(\"Unique shapes reported:\", ufo['Shape Reported'].unique())\n"
   ]
  },
  {
   "cell_type": "code",
   "execution_count": 9,
   "metadata": {},
   "outputs": [
    {
     "name": "stdout",
     "output_type": "stream",
     "text": [
      "State\n",
      "CA    10743\n",
      "WA     4809\n",
      "FL     4804\n",
      "TX     4186\n",
      "NY     3677\n",
      "AZ     3019\n",
      "PA     2986\n",
      "IL     2957\n",
      "OH     2783\n",
      "MI     2347\n",
      "Name: count, dtype: int64\n"
     ]
    }
   ],
   "source": [
    "\n",
    "# Display the most common UFO sightings by state\n",
    "print(ufo['State'].value_counts().head(10))\n"
   ]
  },
  {
   "cell_type": "code",
   "execution_count": 10,
   "metadata": {},
   "outputs": [],
   "source": [
    "\n",
    "# Convert 'datetime' column to datetime type\n",
    "ufo['Time'] = pd.to_datetime(ufo['Time'])\n"
   ]
  },
  {
   "cell_type": "code",
   "execution_count": 11,
   "metadata": {},
   "outputs": [],
   "source": [
    "\n",
    "# Extract year and month from the datetime column\n",
    "ufo['year'] = ufo['Time'].dt.year\n",
    "ufo['month'] = ufo['Time'].dt.month\n"
   ]
  },
  {
   "cell_type": "code",
   "execution_count": 12,
   "metadata": {},
   "outputs": [
    {
     "name": "stdout",
     "output_type": "stream",
     "text": [
      "year\n",
      "1930       2\n",
      "1931       2\n",
      "1933       1\n",
      "1934       1\n",
      "1935       1\n",
      "        ... \n",
      "2010    4154\n",
      "2011    5089\n",
      "2012    7263\n",
      "2013    7003\n",
      "2014    5382\n",
      "Name: count, Length: 82, dtype: int64\n"
     ]
    }
   ],
   "source": [
    "\n",
    "# Display the number of sightings by year\n",
    "print(ufo['year'].value_counts().sort_index())\n"
   ]
  },
  {
   "cell_type": "code",
   "execution_count": 93,
   "metadata": {},
   "outputs": [
    {
     "data": {
      "image/png": "[encoded data removed]",
      "text/plain": [
       "<Figure size 1200x600 with 1 Axes>"
      ]
     },
     "metadata": {},
     "output_type": "display_data"
    }
   ],
   "source": [
    "\n",
    "# Create a bar plot of sightings by month\n",
    "plt.figure(figsize=(12, 6))\n",
    "ufo['month'].value_counts().sort_index().plot(kind='bar')\n",
    "plt.title('UFO Sightings by Month')\n",
    "plt.xlabel('Month')\n",
    "plt.xticks(rotation=0)\n",
    "plt.ylabel('Number of Sightings')\n",
    "plt.show()\n"
   ]
  },
  {
   "cell_type": "code",
   "execution_count": null,
   "metadata": {},
   "outputs": [],
   "source": []
  },
  {
   "cell_type": "markdown",
   "metadata": {
    "tags": []
   },
   "source": [
    "## Deeper into the Data"
   ]
  },
  {
   "cell_type": "markdown",
   "metadata": {},
   "source": [
    "Let's take a look at some value counts!"
   ]
  },
  {
   "cell_type": "code",
   "execution_count": 94,
   "metadata": {
    "tags": []
   },
   "outputs": [
    {
     "data": {
      "text/plain": [
       "<Axes: xlabel='City'>"
      ]
     },
     "execution_count": 94,
     "metadata": {},
     "output_type": "execute_result"
    },
    {
     "data": {
      "image/png": "[encoded data removed]",
      "text/plain": [
       "<Figure size 640x480 with 1 Axes>"
      ]
     },
     "metadata": {},
     "output_type": "display_data"
    }
   ],
   "source": [
    "# City\n",
    "ufo['City'].value_counts().head(10).plot(kind='bar')"
   ]
  },
  {
   "cell_type": "code",
   "execution_count": 96,
   "metadata": {
    "tags": []
   },
   "outputs": [
    {
     "data": {
      "text/plain": [
       "State\n",
       "CA    10743\n",
       "WA     4809\n",
       "FL     4804\n",
       "TX     4186\n",
       "NY     3677\n",
       "AZ     3019\n",
       "PA     2986\n",
       "IL     2957\n",
       "OH     2783\n",
       "MI     2347\n",
       "NC     2156\n",
       "OR     2111\n",
       "MO     1806\n",
       "CO     1717\n",
       "NJ     1712\n",
       "IN     1596\n",
       "VA     1582\n",
       "GA     1564\n",
       "MA     1557\n",
       "WI     1491\n",
       "TN     1365\n",
       "SC     1302\n",
       "MN     1217\n",
       "CT     1105\n",
       "KY     1040\n",
       "MD     1036\n",
       "NV     1023\n",
       "NM      931\n",
       "OK      873\n",
       "UT      823\n",
       "AL      808\n",
       "IA      799\n",
       "AR      748\n",
       "KS      739\n",
       "ME      712\n",
       "LA      699\n",
       "ID      648\n",
       "NH      618\n",
       "MT      602\n",
       "WV      559\n",
       "MS      478\n",
       "NE      461\n",
       "HI      410\n",
       "AK      403\n",
       "VT      356\n",
       "RI      331\n",
       "WY      239\n",
       "SD      234\n",
       "DE      221\n",
       "ND      155\n",
       "Fl        4\n",
       "Ca        1\n",
       "Name: count, dtype: int64"
      ]
     },
     "execution_count": 96,
     "metadata": {},
     "output_type": "execute_result"
    }
   ],
   "source": [
    "# State\n",
    "# ufo['State'].value_counts().head(10).plot(kind='bar')\n",
    "ufo['State'].value_counts()"
   ]
  },
  {
   "cell_type": "code",
   "execution_count": 99,
   "metadata": {
    "tags": []
   },
   "outputs": [],
   "source": [
    "# Hmm... Let's clean this up a bit\n",
    "ufo['State'] = ufo['State'].str.upper()"
   ]
  },
  {
   "cell_type": "code",
   "execution_count": 100,
   "metadata": {
    "tags": []
   },
   "outputs": [
    {
     "data": {
      "text/plain": [
       "State\n",
       "CA    10744\n",
       "WA     4809\n",
       "FL     4808\n",
       "TX     4186\n",
       "NY     3677\n",
       "AZ     3019\n",
       "PA     2986\n",
       "IL     2957\n",
       "OH     2783\n",
       "MI     2347\n",
       "NC     2156\n",
       "OR     2111\n",
       "MO     1806\n",
       "CO     1717\n",
       "NJ     1712\n",
       "IN     1596\n",
       "VA     1582\n",
       "GA     1564\n",
       "MA     1557\n",
       "WI     1491\n",
       "TN     1365\n",
       "SC     1302\n",
       "MN     1217\n",
       "CT     1105\n",
       "KY     1040\n",
       "MD     1036\n",
       "NV     1023\n",
       "NM      931\n",
       "OK      873\n",
       "UT      823\n",
       "AL      808\n",
       "IA      799\n",
       "AR      748\n",
       "KS      739\n",
       "ME      712\n",
       "LA      699\n",
       "ID      648\n",
       "NH      618\n",
       "MT      602\n",
       "WV      559\n",
       "MS      478\n",
       "NE      461\n",
       "HI      410\n",
       "AK      403\n",
       "VT      356\n",
       "RI      331\n",
       "WY      239\n",
       "SD      234\n",
       "DE      221\n",
       "ND      155\n",
       "Name: count, dtype: int64"
      ]
     },
     "execution_count": 100,
     "metadata": {},
     "output_type": "execute_result"
    }
   ],
   "source": [
    "# Let's check it again\n",
    "ufo['State'].value_counts()"
   ]
  },
  {
   "cell_type": "code",
   "execution_count": 102,
   "metadata": {
    "tags": []
   },
   "outputs": [
    {
     "data": {
      "text/plain": [
       "50"
      ]
     },
     "execution_count": 102,
     "metadata": {},
     "output_type": "execute_result"
    }
   ],
   "source": [
    "# How many unique states?\n",
    "ufo['State'].nunique()\n"
   ]
  },
  {
   "cell_type": "code",
   "execution_count": 103,
   "metadata": {
    "tags": []
   },
   "outputs": [
    {
     "data": {
      "text/plain": [
       "Shape Reported\n",
       "LIGHT        16332\n",
       "TRIANGLE      7816\n",
       "CIRCLE        7725\n",
       "FIREBALL      6249\n",
       "OTHER         5506\n",
       "SPHERE        5231\n",
       "DISK          5226\n",
       "OVAL          3721\n",
       "FORMATION     2405\n",
       "CIGAR         1983\n",
       "VARIOUS       1957\n",
       "FLASH         1329\n",
       "RECTANGLE     1295\n",
       "CYLINDER      1252\n",
       "DIAMOND       1152\n",
       "CHEVRON        940\n",
       "EGG            733\n",
       "TEARDROP       723\n",
       "CONE           310\n",
       "CROSS          241\n",
       "DELTA            7\n",
       "ROUND            2\n",
       "CRESCENT         2\n",
       "DOME             1\n",
       "PYRAMID          1\n",
       "FLARE            1\n",
       "HEXAGON          1\n",
       "Name: count, dtype: int64"
      ]
     },
     "execution_count": 103,
     "metadata": {},
     "output_type": "execute_result"
    }
   ],
   "source": [
    "# Shape Reported\n",
    "ufo['Shape Reported'].value_counts()"
   ]
  },
  {
   "cell_type": "code",
   "execution_count": 104,
   "metadata": {
    "tags": []
   },
   "outputs": [
    {
     "data": {
      "text/plain": [
       "Colors Reported\n",
       "ORANGE                          5216\n",
       "RED                             4809\n",
       "GREEN                           1897\n",
       "BLUE                            1855\n",
       "YELLOW                           842\n",
       "RED ORANGE                       486\n",
       "RED GREEN                        469\n",
       "RED BLUE                         445\n",
       "RED GREEN BLUE                   166\n",
       "GREEN BLUE                       147\n",
       "RED YELLOW                       146\n",
       "ORANGE YELLOW                    137\n",
       "ORANGE GREEN                      66\n",
       "ORANGE BLUE                       58\n",
       "YELLOW GREEN                      53\n",
       "RED YELLOW BLUE                   36\n",
       "RED YELLOW GREEN                  35\n",
       "RED ORANGE YELLOW                 32\n",
       "YELLOW BLUE                       27\n",
       "RED YELLOW GREEN BLUE             26\n",
       "RED ORANGE BLUE                   21\n",
       "ORANGE GREEN BLUE                 13\n",
       "YELLOW GREEN BLUE                 13\n",
       "RED ORANGE GREEN                  12\n",
       "RED ORANGE GREEN BLUE              8\n",
       "ORANGE YELLOW GREEN                5\n",
       "RED ORANGE YELLOW GREEN            4\n",
       "ORANGE YELLOW BLUE                 3\n",
       "ORANGE YELLOW GREEN BLUE           3\n",
       "RED ORANGE YELLOW BLUE             2\n",
       "RED ORANGE YELLOW GREEN BLUE       2\n",
       "Name: count, dtype: int64"
      ]
     },
     "execution_count": 104,
     "metadata": {},
     "output_type": "execute_result"
    }
   ],
   "source": [
    "# Colors Reported\n",
    "ufo['Colors Reported'].value_counts()"
   ]
  },
  {
   "cell_type": "code",
   "execution_count": 105,
   "metadata": {
    "tags": []
   },
   "outputs": [
    {
     "data": {
      "text/html": [
       "<div>\n",
       "<style scoped>\n",
       "    .dataframe tbody tr th:only-of-type {\n",
       "        vertical-align: middle;\n",
       "    }\n",
       "\n",
       "    .dataframe tbody tr th {\n",
       "        vertical-align: top;\n",
       "    }\n",
       "\n",
       "    .dataframe thead th {\n",
       "        text-align: right;\n",
       "    }\n",
       "</style>\n",
       "<table border=\"1\" class=\"dataframe\">\n",
       "  <thead>\n",
       "    <tr style=\"text-align: right;\">\n",
       "      <th></th>\n",
       "      <th>City</th>\n",
       "      <th>Colors Reported</th>\n",
       "      <th>Shape Reported</th>\n",
       "      <th>State</th>\n",
       "      <th>Time</th>\n",
       "      <th>year</th>\n",
       "      <th>month</th>\n",
       "    </tr>\n",
       "  </thead>\n",
       "  <tbody>\n",
       "    <tr>\n",
       "      <th>111</th>\n",
       "      <td>Tarrant City</td>\n",
       "      <td>ORANGE</td>\n",
       "      <td>CIRCLE</td>\n",
       "      <td>AL</td>\n",
       "      <td>1949-08-15 22:00:00</td>\n",
       "      <td>1949</td>\n",
       "      <td>8</td>\n",
       "    </tr>\n",
       "    <tr>\n",
       "      <th>138</th>\n",
       "      <td>Coeur d'Alene</td>\n",
       "      <td>ORANGE</td>\n",
       "      <td>CIGAR</td>\n",
       "      <td>ID</td>\n",
       "      <td>1950-07-02 13:00:00</td>\n",
       "      <td>1950</td>\n",
       "      <td>7</td>\n",
       "    </tr>\n",
       "    <tr>\n",
       "      <th>174</th>\n",
       "      <td>Greenville</td>\n",
       "      <td>ORANGE</td>\n",
       "      <td>TRIANGLE</td>\n",
       "      <td>TX</td>\n",
       "      <td>1952-04-15 16:00:00</td>\n",
       "      <td>1952</td>\n",
       "      <td>4</td>\n",
       "    </tr>\n",
       "    <tr>\n",
       "      <th>249</th>\n",
       "      <td>Artesia</td>\n",
       "      <td>ORANGE</td>\n",
       "      <td>OTHER</td>\n",
       "      <td>NM</td>\n",
       "      <td>1953-08-15 19:00:00</td>\n",
       "      <td>1953</td>\n",
       "      <td>8</td>\n",
       "    </tr>\n",
       "    <tr>\n",
       "      <th>311</th>\n",
       "      <td>Red Bank</td>\n",
       "      <td>ORANGE</td>\n",
       "      <td>CIRCLE</td>\n",
       "      <td>NJ</td>\n",
       "      <td>1954-12-15 23:10:00</td>\n",
       "      <td>1954</td>\n",
       "      <td>12</td>\n",
       "    </tr>\n",
       "    <tr>\n",
       "      <th>...</th>\n",
       "      <td>...</td>\n",
       "      <td>...</td>\n",
       "      <td>...</td>\n",
       "      <td>...</td>\n",
       "      <td>...</td>\n",
       "      <td>...</td>\n",
       "      <td>...</td>\n",
       "    </tr>\n",
       "    <tr>\n",
       "      <th>80469</th>\n",
       "      <td>Milford</td>\n",
       "      <td>ORANGE</td>\n",
       "      <td>CIRCLE</td>\n",
       "      <td>DE</td>\n",
       "      <td>2014-09-01 22:19:00</td>\n",
       "      <td>2014</td>\n",
       "      <td>9</td>\n",
       "    </tr>\n",
       "    <tr>\n",
       "      <th>80482</th>\n",
       "      <td>Spearfish</td>\n",
       "      <td>ORANGE</td>\n",
       "      <td>FIREBALL</td>\n",
       "      <td>SD</td>\n",
       "      <td>2014-09-02 22:30:00</td>\n",
       "      <td>2014</td>\n",
       "      <td>9</td>\n",
       "    </tr>\n",
       "    <tr>\n",
       "      <th>80489</th>\n",
       "      <td>Pleasure Island</td>\n",
       "      <td>ORANGE</td>\n",
       "      <td>SPHERE</td>\n",
       "      <td>NC</td>\n",
       "      <td>2014-09-03 05:00:00</td>\n",
       "      <td>2014</td>\n",
       "      <td>9</td>\n",
       "    </tr>\n",
       "    <tr>\n",
       "      <th>80503</th>\n",
       "      <td>Bethel Park</td>\n",
       "      <td>ORANGE</td>\n",
       "      <td>VARIOUS</td>\n",
       "      <td>PA</td>\n",
       "      <td>2014-09-03 21:15:00</td>\n",
       "      <td>2014</td>\n",
       "      <td>9</td>\n",
       "    </tr>\n",
       "    <tr>\n",
       "      <th>80522</th>\n",
       "      <td>Lawrence</td>\n",
       "      <td>ORANGE</td>\n",
       "      <td>LIGHT</td>\n",
       "      <td>MA</td>\n",
       "      <td>2014-09-04 20:30:00</td>\n",
       "      <td>2014</td>\n",
       "      <td>9</td>\n",
       "    </tr>\n",
       "  </tbody>\n",
       "</table>\n",
       "<p>6068 rows × 7 columns</p>\n",
       "</div>"
      ],
      "text/plain": [
       "                  City Colors Reported Shape Reported State  \\\n",
       "111       Tarrant City          ORANGE         CIRCLE    AL   \n",
       "138      Coeur d'Alene          ORANGE          CIGAR    ID   \n",
       "174         Greenville          ORANGE       TRIANGLE    TX   \n",
       "249            Artesia          ORANGE          OTHER    NM   \n",
       "311           Red Bank          ORANGE         CIRCLE    NJ   \n",
       "...                ...             ...            ...   ...   \n",
       "80469          Milford          ORANGE         CIRCLE    DE   \n",
       "80482        Spearfish          ORANGE       FIREBALL    SD   \n",
       "80489  Pleasure Island          ORANGE         SPHERE    NC   \n",
       "80503      Bethel Park          ORANGE        VARIOUS    PA   \n",
       "80522         Lawrence          ORANGE          LIGHT    MA   \n",
       "\n",
       "                     Time  year  month  \n",
       "111   1949-08-15 22:00:00  1949      8  \n",
       "138   1950-07-02 13:00:00  1950      7  \n",
       "174   1952-04-15 16:00:00  1952      4  \n",
       "249   1953-08-15 19:00:00  1953      8  \n",
       "311   1954-12-15 23:10:00  1954     12  \n",
       "...                   ...   ...    ...  \n",
       "80469 2014-09-01 22:19:00  2014      9  \n",
       "80482 2014-09-02 22:30:00  2014      9  \n",
       "80489 2014-09-03 05:00:00  2014      9  \n",
       "80503 2014-09-03 21:15:00  2014      9  \n",
       "80522 2014-09-04 20:30:00  2014      9  \n",
       "\n",
       "[6068 rows x 7 columns]"
      ]
     },
     "execution_count": 105,
     "metadata": {},
     "output_type": "execute_result"
    }
   ],
   "source": [
    "# ADVANCED - Is there a way to filter our dataframe to where the color includes orange?\n",
    "ufo[ufo['Colors Reported'].str.contains('ORANGE', na=False)]"
   ]
  },
  {
   "cell_type": "code",
   "execution_count": 106,
   "metadata": {
    "tags": []
   },
   "outputs": [
    {
     "data": {
      "text/html": [
       "<div>\n",
       "<style scoped>\n",
       "    .dataframe tbody tr th:only-of-type {\n",
       "        vertical-align: middle;\n",
       "    }\n",
       "\n",
       "    .dataframe tbody tr th {\n",
       "        vertical-align: top;\n",
       "    }\n",
       "\n",
       "    .dataframe thead th {\n",
       "        text-align: right;\n",
       "    }\n",
       "</style>\n",
       "<table border=\"1\" class=\"dataframe\">\n",
       "  <thead>\n",
       "    <tr style=\"text-align: right;\">\n",
       "      <th></th>\n",
       "      <th>City</th>\n",
       "      <th>Colors Reported</th>\n",
       "      <th>Shape Reported</th>\n",
       "      <th>State</th>\n",
       "      <th>Time</th>\n",
       "      <th>year</th>\n",
       "      <th>month</th>\n",
       "    </tr>\n",
       "  </thead>\n",
       "  <tbody>\n",
       "    <tr>\n",
       "      <th>47</th>\n",
       "      <td>Oak Lawn</td>\n",
       "      <td>NaN</td>\n",
       "      <td>FORMATION</td>\n",
       "      <td>IL</td>\n",
       "      <td>1946-09-12 00:00:00</td>\n",
       "      <td>1946</td>\n",
       "      <td>9</td>\n",
       "    </tr>\n",
       "    <tr>\n",
       "      <th>72</th>\n",
       "      <td>Johnston City</td>\n",
       "      <td>NaN</td>\n",
       "      <td>DISK</td>\n",
       "      <td>IL</td>\n",
       "      <td>1947-07-09 20:00:00</td>\n",
       "      <td>1947</td>\n",
       "      <td>7</td>\n",
       "    </tr>\n",
       "    <tr>\n",
       "      <th>77</th>\n",
       "      <td>Keeneyville</td>\n",
       "      <td>NaN</td>\n",
       "      <td>FORMATION</td>\n",
       "      <td>IL</td>\n",
       "      <td>1947-07-15 12:00:00</td>\n",
       "      <td>1947</td>\n",
       "      <td>7</td>\n",
       "    </tr>\n",
       "    <tr>\n",
       "      <th>173</th>\n",
       "      <td>Chicago</td>\n",
       "      <td>NaN</td>\n",
       "      <td>DISK</td>\n",
       "      <td>IL</td>\n",
       "      <td>1952-04-15 13:00:00</td>\n",
       "      <td>1952</td>\n",
       "      <td>4</td>\n",
       "    </tr>\n",
       "    <tr>\n",
       "      <th>180</th>\n",
       "      <td>Chicago</td>\n",
       "      <td>NaN</td>\n",
       "      <td>CIRCLE</td>\n",
       "      <td>IL</td>\n",
       "      <td>1952-06-10 12:00:00</td>\n",
       "      <td>1952</td>\n",
       "      <td>6</td>\n",
       "    </tr>\n",
       "    <tr>\n",
       "      <th>...</th>\n",
       "      <td>...</td>\n",
       "      <td>...</td>\n",
       "      <td>...</td>\n",
       "      <td>...</td>\n",
       "      <td>...</td>\n",
       "      <td>...</td>\n",
       "      <td>...</td>\n",
       "    </tr>\n",
       "    <tr>\n",
       "      <th>80401</th>\n",
       "      <td>Belvidere</td>\n",
       "      <td>ORANGE</td>\n",
       "      <td>NaN</td>\n",
       "      <td>IL</td>\n",
       "      <td>2014-08-30 20:20:00</td>\n",
       "      <td>2014</td>\n",
       "      <td>8</td>\n",
       "    </tr>\n",
       "    <tr>\n",
       "      <th>80498</th>\n",
       "      <td>Highland Park</td>\n",
       "      <td>NaN</td>\n",
       "      <td>LIGHT</td>\n",
       "      <td>IL</td>\n",
       "      <td>2014-09-03 20:26:00</td>\n",
       "      <td>2014</td>\n",
       "      <td>9</td>\n",
       "    </tr>\n",
       "    <tr>\n",
       "      <th>80500</th>\n",
       "      <td>Johnsburg</td>\n",
       "      <td>RED BLUE</td>\n",
       "      <td>LIGHT</td>\n",
       "      <td>IL</td>\n",
       "      <td>2014-09-03 21:00:00</td>\n",
       "      <td>2014</td>\n",
       "      <td>9</td>\n",
       "    </tr>\n",
       "    <tr>\n",
       "      <th>80519</th>\n",
       "      <td>Glen Ellyn</td>\n",
       "      <td>RED</td>\n",
       "      <td>CIRCLE</td>\n",
       "      <td>IL</td>\n",
       "      <td>2014-09-04 20:20:00</td>\n",
       "      <td>2014</td>\n",
       "      <td>9</td>\n",
       "    </tr>\n",
       "    <tr>\n",
       "      <th>80541</th>\n",
       "      <td>Orland park</td>\n",
       "      <td>RED</td>\n",
       "      <td>LIGHT</td>\n",
       "      <td>IL</td>\n",
       "      <td>2014-09-05 03:43:00</td>\n",
       "      <td>2014</td>\n",
       "      <td>9</td>\n",
       "    </tr>\n",
       "  </tbody>\n",
       "</table>\n",
       "<p>2957 rows × 7 columns</p>\n",
       "</div>"
      ],
      "text/plain": [
       "                City Colors Reported Shape Reported State                Time  \\\n",
       "47          Oak Lawn             NaN      FORMATION    IL 1946-09-12 00:00:00   \n",
       "72     Johnston City             NaN           DISK    IL 1947-07-09 20:00:00   \n",
       "77       Keeneyville             NaN      FORMATION    IL 1947-07-15 12:00:00   \n",
       "173          Chicago             NaN           DISK    IL 1952-04-15 13:00:00   \n",
       "180          Chicago             NaN         CIRCLE    IL 1952-06-10 12:00:00   \n",
       "...              ...             ...            ...   ...                 ...   \n",
       "80401      Belvidere          ORANGE            NaN    IL 2014-08-30 20:20:00   \n",
       "80498  Highland Park             NaN          LIGHT    IL 2014-09-03 20:26:00   \n",
       "80500      Johnsburg        RED BLUE          LIGHT    IL 2014-09-03 21:00:00   \n",
       "80519     Glen Ellyn             RED         CIRCLE    IL 2014-09-04 20:20:00   \n",
       "80541    Orland park             RED          LIGHT    IL 2014-09-05 03:43:00   \n",
       "\n",
       "       year  month  \n",
       "47     1946      9  \n",
       "72     1947      7  \n",
       "77     1947      7  \n",
       "173    1952      4  \n",
       "180    1952      6  \n",
       "...     ...    ...  \n",
       "80401  2014      8  \n",
       "80498  2014      9  \n",
       "80500  2014      9  \n",
       "80519  2014      9  \n",
       "80541  2014      9  \n",
       "\n",
       "[2957 rows x 7 columns]"
      ]
     },
     "execution_count": 106,
     "metadata": {},
     "output_type": "execute_result"
    }
   ],
   "source": [
    "# Filter to UFO sightings to ones in Illinois\n",
    "ufo[ufo['State'] == 'IL']\n"
   ]
  },
  {
   "cell_type": "code",
   "execution_count": 27,
   "metadata": {
    "tags": []
   },
   "outputs": [],
   "source": [
    "# (NOW YOU): Show me all the UFO sightings in your town! (City and State)\n",
    "# Anything interesting?\n"
   ]
  },
  {
   "cell_type": "code",
   "execution_count": 28,
   "metadata": {
    "tags": []
   },
   "outputs": [],
   "source": [
    "# Quick look at dtypes\n"
   ]
  },
  {
   "cell_type": "markdown",
   "metadata": {},
   "source": [
    "---"
   ]
  },
  {
   "cell_type": "markdown",
   "metadata": {},
   "source": [
    "# <span style=\"color:#D34B47\">📌 Working with Datetime in Python</span>"
   ]
  },
  {
   "cell_type": "code",
   "execution_count": 29,
   "metadata": {
    "tags": []
   },
   "outputs": [],
   "source": [
    "# Convert `Time` to datetime!\n",
    "\n"
   ]
  },
  {
   "cell_type": "code",
   "execution_count": null,
   "metadata": {
    "tags": []
   },
   "outputs": [],
   "source": []
  },
  {
   "cell_type": "code",
   "execution_count": 30,
   "metadata": {
    "tags": []
   },
   "outputs": [],
   "source": [
    "# Engineer some new features!\n"
   ]
  },
  {
   "cell_type": "markdown",
   "metadata": {},
   "source": [
    "---"
   ]
  },
  {
   "cell_type": "markdown",
   "metadata": {},
   "source": [
    "# <span style=\"color:#D34B47\">📌 Introduce Diamonds Dataset</span>"
   ]
  },
  {
   "cell_type": "markdown",
   "metadata": {
    "tags": []
   },
   "source": [
    "## <span style=\"color:#4CCFA2\">Diamonds Dataset 💍</span>"
   ]
  },
  {
   "cell_type": "markdown",
   "metadata": {
    "tags": []
   },
   "source": [
    "## Read in the Data"
   ]
  },
  {
   "cell_type": "code",
   "execution_count": 108,
   "metadata": {
    "tags": []
   },
   "outputs": [],
   "source": [
    "\n",
    "diamond = pd.read_csv('/Users/woodzsan/Desktop/Machine Learning and Data Analysis/Coding Temple/6 - Python For Data Analysis/Lesson/Coding-Temple-M6-More-Pandas/data/diamonds.csv')"
   ]
  },
  {
   "cell_type": "markdown",
   "metadata": {
    "tags": []
   },
   "source": [
    "## First Look at the Data"
   ]
  },
  {
   "cell_type": "markdown",
   "metadata": {
    "tags": []
   },
   "source": [
    "You can view the data dictionary [here](https://www.kaggle.com/datasets/shivam2503/diamonds)."
   ]
  },
  {
   "cell_type": "code",
   "execution_count": 109,
   "metadata": {
    "tags": []
   },
   "outputs": [
    {
     "data": {
      "text/html": [
       "<div>\n",
       "<style scoped>\n",
       "    .dataframe tbody tr th:only-of-type {\n",
       "        vertical-align: middle;\n",
       "    }\n",
       "\n",
       "    .dataframe tbody tr th {\n",
       "        vertical-align: top;\n",
       "    }\n",
       "\n",
       "    .dataframe thead th {\n",
       "        text-align: right;\n",
       "    }\n",
       "</style>\n",
       "<table border=\"1\" class=\"dataframe\">\n",
       "  <thead>\n",
       "    <tr style=\"text-align: right;\">\n",
       "      <th></th>\n",
       "      <th>carat</th>\n",
       "      <th>cut</th>\n",
       "      <th>color</th>\n",
       "      <th>clarity</th>\n",
       "      <th>depth</th>\n",
       "      <th>table</th>\n",
       "      <th>price</th>\n",
       "      <th>x</th>\n",
       "      <th>y</th>\n",
       "      <th>z</th>\n",
       "    </tr>\n",
       "  </thead>\n",
       "  <tbody>\n",
       "    <tr>\n",
       "      <th>0</th>\n",
       "      <td>0.23</td>\n",
       "      <td>Ideal</td>\n",
       "      <td>E</td>\n",
       "      <td>SI2</td>\n",
       "      <td>61.5</td>\n",
       "      <td>55.0</td>\n",
       "      <td>326</td>\n",
       "      <td>3.95</td>\n",
       "      <td>3.98</td>\n",
       "      <td>2.43</td>\n",
       "    </tr>\n",
       "    <tr>\n",
       "      <th>1</th>\n",
       "      <td>0.21</td>\n",
       "      <td>Premium</td>\n",
       "      <td>E</td>\n",
       "      <td>SI1</td>\n",
       "      <td>59.8</td>\n",
       "      <td>61.0</td>\n",
       "      <td>326</td>\n",
       "      <td>3.89</td>\n",
       "      <td>3.84</td>\n",
       "      <td>2.31</td>\n",
       "    </tr>\n",
       "    <tr>\n",
       "      <th>2</th>\n",
       "      <td>0.23</td>\n",
       "      <td>Good</td>\n",
       "      <td>E</td>\n",
       "      <td>VS1</td>\n",
       "      <td>56.9</td>\n",
       "      <td>65.0</td>\n",
       "      <td>327</td>\n",
       "      <td>4.05</td>\n",
       "      <td>4.07</td>\n",
       "      <td>2.31</td>\n",
       "    </tr>\n",
       "    <tr>\n",
       "      <th>3</th>\n",
       "      <td>0.29</td>\n",
       "      <td>Premium</td>\n",
       "      <td>I</td>\n",
       "      <td>VS2</td>\n",
       "      <td>62.4</td>\n",
       "      <td>58.0</td>\n",
       "      <td>334</td>\n",
       "      <td>4.20</td>\n",
       "      <td>4.23</td>\n",
       "      <td>2.63</td>\n",
       "    </tr>\n",
       "    <tr>\n",
       "      <th>4</th>\n",
       "      <td>0.31</td>\n",
       "      <td>Good</td>\n",
       "      <td>J</td>\n",
       "      <td>SI2</td>\n",
       "      <td>63.3</td>\n",
       "      <td>58.0</td>\n",
       "      <td>335</td>\n",
       "      <td>4.34</td>\n",
       "      <td>4.35</td>\n",
       "      <td>2.75</td>\n",
       "    </tr>\n",
       "  </tbody>\n",
       "</table>\n",
       "</div>"
      ],
      "text/plain": [
       "   carat      cut color clarity  depth  table  price     x     y     z\n",
       "0   0.23    Ideal     E     SI2   61.5   55.0    326  3.95  3.98  2.43\n",
       "1   0.21  Premium     E     SI1   59.8   61.0    326  3.89  3.84  2.31\n",
       "2   0.23     Good     E     VS1   56.9   65.0    327  4.05  4.07  2.31\n",
       "3   0.29  Premium     I     VS2   62.4   58.0    334  4.20  4.23  2.63\n",
       "4   0.31     Good     J     SI2   63.3   58.0    335  4.34  4.35  2.75"
      ]
     },
     "execution_count": 109,
     "metadata": {},
     "output_type": "execute_result"
    }
   ],
   "source": [
    "# Hmm... rename some columns?\n",
    "diamond.head()"
   ]
  },
  {
   "cell_type": "code",
   "execution_count": 33,
   "metadata": {
    "tags": []
   },
   "outputs": [],
   "source": [
    "# check our change\n"
   ]
  },
  {
   "cell_type": "code",
   "execution_count": 34,
   "metadata": {
    "tags": []
   },
   "outputs": [],
   "source": [
    "# shape\n"
   ]
  },
  {
   "cell_type": "code",
   "execution_count": 35,
   "metadata": {
    "tags": []
   },
   "outputs": [],
   "source": [
    "# info\n"
   ]
  },
  {
   "cell_type": "code",
   "execution_count": 36,
   "metadata": {
    "tags": []
   },
   "outputs": [],
   "source": [
    "# another look at missing values\n"
   ]
  },
  {
   "cell_type": "code",
   "execution_count": 37,
   "metadata": {
    "tags": []
   },
   "outputs": [],
   "source": [
    "# describe\n"
   ]
  },
  {
   "cell_type": "code",
   "execution_count": 38,
   "metadata": {
    "tags": []
   },
   "outputs": [],
   "source": [
    "# decribe again (on object columns)\n"
   ]
  },
  {
   "cell_type": "markdown",
   "metadata": {
    "tags": []
   },
   "source": [
    "## Deeper into the Data"
   ]
  },
  {
   "cell_type": "code",
   "execution_count": 39,
   "metadata": {},
   "outputs": [],
   "source": [
    "# Let's count up the cuts\n"
   ]
  },
  {
   "cell_type": "code",
   "execution_count": 40,
   "metadata": {
    "tags": []
   },
   "outputs": [],
   "source": [
    "# Let's do the same thing, but normalized\n"
   ]
  },
  {
   "cell_type": "code",
   "execution_count": 41,
   "metadata": {
    "tags": []
   },
   "outputs": [],
   "source": [
    "# clarity\n"
   ]
  },
  {
   "cell_type": "code",
   "execution_count": 42,
   "metadata": {
    "tags": []
   },
   "outputs": [],
   "source": [
    "# color\n"
   ]
  },
  {
   "cell_type": "markdown",
   "metadata": {},
   "source": [
    "## Sorting"
   ]
  },
  {
   "cell_type": "code",
   "execution_count": 43,
   "metadata": {
    "tags": []
   },
   "outputs": [],
   "source": [
    "# We can sort individual Series...\n"
   ]
  },
  {
   "cell_type": "code",
   "execution_count": 44,
   "metadata": {
    "tags": []
   },
   "outputs": [],
   "source": [
    "# Or the entire DataFrame\n"
   ]
  },
  {
   "cell_type": "markdown",
   "metadata": {},
   "source": [
    "---"
   ]
  },
  {
   "cell_type": "markdown",
   "metadata": {},
   "source": [
    "# <span style=\"color:#D34B47\">📌 Understanding Split-Apply-Combine in Pandas</span>"
   ]
  },
  {
   "cell_type": "markdown",
   "metadata": {
    "nbpresent": {
     "id": "b7034391-7d6d-4f08-beca-147e18036001"
    },
    "slideshow": {
     "slide_type": "slide"
    },
    "tags": []
   },
   "source": [
    "What if we want summary statistics _with respect to some categorical variable?_ For example, the price of a diamond probably varies widely between different diamond cuts. To tackle this problem, we'll use the **Split-Apply-Combine** technique.\n",
    "\n",
    "* **Split**: Separate your data into different DataFrames, one for each category.\n",
    "* **Apply**: On each split-up DataFrame, apply some function or transformation (for example, the mean).\n",
    "* **Combine**: Take the results and combine the split-up DataFrames back into one aggregate DataFrame.\n",
    "\n",
    "This might sound complicated, but it's actually only two commands in pandas (the **Combine** step is done for us)."
   ]
  },
  {
   "cell_type": "code",
   "execution_count": 45,
   "metadata": {
    "tags": []
   },
   "outputs": [],
   "source": [
    "# What is the mean price by diamond cut?\n"
   ]
  },
  {
   "cell_type": "code",
   "execution_count": 46,
   "metadata": {
    "tags": []
   },
   "outputs": [],
   "source": [
    "# Can we just describe each price by cut?\n"
   ]
  },
  {
   "cell_type": "code",
   "execution_count": 47,
   "metadata": {
    "nbpresent": {
     "id": "c42d85ec-a9a6-4880-84c5-1b73ace2341b"
    },
    "tags": []
   },
   "outputs": [],
   "source": [
    "# What if I want my own recipe of statistics?\n",
    "\n"
   ]
  },
  {
   "cell_type": "code",
   "execution_count": 48,
   "metadata": {
    "tags": []
   },
   "outputs": [],
   "source": [
    "# Now you! - What is the average price for each color?\n",
    "\n"
   ]
  },
  {
   "cell_type": "code",
   "execution_count": 49,
   "metadata": {
    "tags": []
   },
   "outputs": [],
   "source": [
    "# Now you! - What is the median price for each clarity?\n",
    "\n"
   ]
  },
  {
   "cell_type": "code",
   "execution_count": 50,
   "metadata": {
    "tags": []
   },
   "outputs": [],
   "source": [
    "# Can we group by more than one column?\n",
    "\n"
   ]
  },
  {
   "cell_type": "markdown",
   "metadata": {},
   "source": [
    "# ⏸️ PAUSE - The next lesson will continue in this notebook!"
   ]
  },
  {
   "cell_type": "markdown",
   "metadata": {},
   "source": [
    "---"
   ]
  },
  {
   "cell_type": "markdown",
   "metadata": {},
   "source": [
    "<div>\n",
    "<img src=\"https://coursereport-s3-production.global.ssl.fastly.net/uploads/school/logo/219/original/CT_LOGO_NEW.jpg\" width=60>\n",
    "</div>\n",
    "\n",
    "# **Lesson 05. Exploring Pandas: Mastering the Toolkit**"
   ]
  },
  {
   "cell_type": "markdown",
   "metadata": {},
   "source": [
    "# <span style=\"color:#D34B47\">📌 Reviewing Previous Concepts</span>"
   ]
  },
  {
   "cell_type": "markdown",
   "metadata": {
    "tags": []
   },
   "source": [
    "## <span style=\"color:#4CCFA2\">Ames Iowa Housing Dataset 🏡</span>"
   ]
  },
  {
   "cell_type": "markdown",
   "metadata": {},
   "source": [
    "\n",
    "In this dataset, we will go over some common data types that you will see in pandas as well as learn how to deal with missing values.\n"
   ]
  },
  {
   "cell_type": "markdown",
   "metadata": {
    "tags": []
   },
   "source": [
    "## Read in the Data"
   ]
  },
  {
   "cell_type": "code",
   "execution_count": null,
   "metadata": {
    "tags": []
   },
   "outputs": [],
   "source": []
  },
  {
   "cell_type": "markdown",
   "metadata": {
    "tags": []
   },
   "source": [
    "## First Look at the Data"
   ]
  },
  {
   "cell_type": "markdown",
   "metadata": {
    "tags": []
   },
   "source": [
    "You can view the data dictionary [here](https://www.kaggle.com/competitions/house-prices-advanced-regression-techniques/data)."
   ]
  },
  {
   "cell_type": "code",
   "execution_count": 51,
   "metadata": {
    "tags": []
   },
   "outputs": [],
   "source": [
    "# shape\n"
   ]
  },
  {
   "cell_type": "code",
   "execution_count": 52,
   "metadata": {
    "scrolled": true,
    "tags": []
   },
   "outputs": [],
   "source": [
    "# info\n"
   ]
  },
  {
   "cell_type": "markdown",
   "metadata": {},
   "source": [
    "---"
   ]
  },
  {
   "cell_type": "markdown",
   "metadata": {},
   "source": [
    "# <span style=\"color:#D34B47\">📌 Data Types</span>"
   ]
  },
  {
   "cell_type": "markdown",
   "metadata": {},
   "source": [
    "What are the most common data types that you will see in pandas?\n",
    "\n",
    "- int64 (integer)\n",
    "- float64 (floating point number)\n",
    "- object (string)\n",
    "- datetime (datetime)\n",
    "- bool (true or false)\n"
   ]
  },
  {
   "cell_type": "markdown",
   "metadata": {},
   "source": [
    "We can convert a column of one type into another using the [astype](https://pandas.pydata.org/pandas-docs/stable/reference/api/pandas.DataFrame.astype.html) function."
   ]
  },
  {
   "cell_type": "code",
   "execution_count": 53,
   "metadata": {
    "tags": []
   },
   "outputs": [],
   "source": [
    "# Convert the SalePrice column into float64 data type\n",
    "\n"
   ]
  },
  {
   "cell_type": "code",
   "execution_count": 54,
   "metadata": {
    "tags": []
   },
   "outputs": [],
   "source": [
    "# Did we make that change?\n",
    "\n"
   ]
  },
  {
   "cell_type": "code",
   "execution_count": 55,
   "metadata": {
    "tags": []
   },
   "outputs": [],
   "source": [
    "# You might be asking yourself... is there a way to remove the elipses? I want to see everything!\n",
    "\n"
   ]
  },
  {
   "cell_type": "code",
   "execution_count": 56,
   "metadata": {
    "scrolled": true,
    "tags": []
   },
   "outputs": [],
   "source": [
    "# Let's try it again\n"
   ]
  },
  {
   "cell_type": "markdown",
   "metadata": {},
   "source": [
    "---"
   ]
  },
  {
   "cell_type": "markdown",
   "metadata": {},
   "source": [
    "# <span style=\"color:#D34B47\">📌 Missing Values</span>"
   ]
  },
  {
   "cell_type": "markdown",
   "metadata": {
    "tags": []
   },
   "source": [
    "## Locating Missing Values"
   ]
  },
  {
   "cell_type": "code",
   "execution_count": 57,
   "metadata": {
    "scrolled": true,
    "tags": []
   },
   "outputs": [],
   "source": [
    "# Another look at missing values\n"
   ]
  },
  {
   "cell_type": "markdown",
   "metadata": {},
   "source": [
    "This is sometimes difficult to see when we have too many columns. One of my favourite ways to visualize null values is via the `missingno.bar` function."
   ]
  },
  {
   "cell_type": "code",
   "execution_count": 58,
   "metadata": {
    "tags": []
   },
   "outputs": [],
   "source": [
    "# install missingno library\n",
    "# ! pip install missingno"
   ]
  },
  {
   "cell_type": "code",
   "execution_count": 59,
   "metadata": {
    "tags": []
   },
   "outputs": [],
   "source": [
    "# Import missingno library\n"
   ]
  },
  {
   "cell_type": "code",
   "execution_count": 60,
   "metadata": {
    "tags": []
   },
   "outputs": [],
   "source": [
    "# missingno bar\n"
   ]
  },
  {
   "cell_type": "code",
   "execution_count": 61,
   "metadata": {
    "tags": []
   },
   "outputs": [],
   "source": [
    "# missingno matrix\n"
   ]
  },
  {
   "cell_type": "code",
   "execution_count": 62,
   "metadata": {
    "tags": []
   },
   "outputs": [],
   "source": [
    "# missingo heatmap?\n"
   ]
  },
  {
   "cell_type": "markdown",
   "metadata": {},
   "source": [
    "## Dealing with Missing Values"
   ]
  },
  {
   "cell_type": "markdown",
   "metadata": {},
   "source": [
    "There are mainly two ways to deal with missing data.\n",
    "\n",
    "1. Drop the rows or columns which contain missing data \n",
    "2. Replace missing data with substituted values also known as imputation\n",
    "\n",
    "Both methods have their own individual pros and cons. Which of the two methods you use will be highly dependent on your data as well as the nature of the problem you are trying to solve. If you are working on detailed piece of analysis, this is where you would take the time to really understand each column to figure out the best strategy to handle those missing values.\n",
    "\n",
    "Generally speaking, dropping data is much easier and straightforward to implement but it does come at the expense of removing potentially useful information from our dataset. This will adversely affect model performance which then leads to inaccurate model predictions.\n",
    "\n",
    "On the other hand, choosing the best way to impute or replace those missing values require more time, consideration and experience. I will briefly touch upon the different ways to impute missing values in the later part of this notebook."
   ]
  },
  {
   "cell_type": "markdown",
   "metadata": {
    "tags": []
   },
   "source": [
    "### Method 1: Drop Rows or Columns with Missing Values"
   ]
  },
  {
   "cell_type": "markdown",
   "metadata": {},
   "source": [
    "If you are in a hurry or don't have a reason to figure out why your values are missing, one option is to remove rows or columns that contain missing values. However, this is not the best approach in most cases because we might lose potentially useful information in our dataset.\n",
    "\n",
    "Let's see how we can drop rows and columns with missing values using the [dropna](https://pandas.pydata.org/pandas-docs/stable/reference/api/pandas.DataFrame.dropna.html) function. "
   ]
  },
  {
   "cell_type": "code",
   "execution_count": 63,
   "metadata": {
    "scrolled": true,
    "tags": []
   },
   "outputs": [],
   "source": [
    "# Drop rows with missing values\n",
    "\n"
   ]
  },
  {
   "cell_type": "markdown",
   "metadata": {},
   "source": [
    "Yikes, it appears that we have dropped all the rows in our dataframe. This is not good. \n",
    "\n",
    "Ideally, we would only remove rows if we have a large number of training examples and if the rows with missing data is not a high number. In our example, all the rows have at least one missing feature therefore dropping rows with missing data is not a good strategy to use.\n",
    "\n",
    "Maybe we should remove columns with missing values instead."
   ]
  },
  {
   "cell_type": "code",
   "execution_count": null,
   "metadata": {
    "tags": []
   },
   "outputs": [],
   "source": []
  },
  {
   "cell_type": "code",
   "execution_count": 64,
   "metadata": {
    "scrolled": true,
    "tags": []
   },
   "outputs": [],
   "source": [
    "# Drop columns with missing values\n",
    "\n"
   ]
  },
  {
   "cell_type": "markdown",
   "metadata": {},
   "source": [
    "We are dropping a substantial amount of features from our dataset, almost a quarter! \n",
    "\n",
    "Features in our example are the characteristics that describe the house. If we remove features that are significant in explaining the sale price of the house, our model will not be able to make accurate predictions. \n",
    "\n",
    "In an ideal scenario, it is only safe to drop a column if there is significant random missing data present in a column and if we have reasons to believe that the column is unimportant in predicting our target variable. \n",
    "\n",
    "Let's have a closer look at the features that we are dropping. "
   ]
  },
  {
   "cell_type": "code",
   "execution_count": null,
   "metadata": {
    "tags": []
   },
   "outputs": [],
   "source": []
  },
  {
   "cell_type": "markdown",
   "metadata": {},
   "source": [
    "To iterate, only drop rows and columns if you have significant amount missing data or that the data is not important in predicting the target variable. \n",
    "\n",
    "Now let's look at a better approach for dealing with missing data via imputation."
   ]
  },
  {
   "cell_type": "markdown",
   "metadata": {
    "tags": []
   },
   "source": [
    "### Method 2: Filling in Missing Values"
   ]
  },
  {
   "cell_type": "markdown",
   "metadata": {},
   "source": [
    "There are a couple of ways to impute missing data that is subjective to the situation. \n",
    "\n",
    "In this section, I will go through the two of the most common technique to fill missing data:\n",
    "\n",
    "1. Using mean or median values (for numerical variables)\n",
    "2. Using mode or 'Unknown' (for categorical variables)\n",
    "\n",
    "Numerical variables are continuous random variable like height, age, total sales whereas categorical variables are discrete random variables like yes or no, pass or fail, small, medium or large etc.\n",
    "\n",
    "The main function to use here is the [fillna](https://pandas.pydata.org/pandas-docs/stable/reference/api/pandas.DataFrame.fillna.html) function. "
   ]
  },
  {
   "cell_type": "markdown",
   "metadata": {
    "tags": []
   },
   "source": [
    "#### Part A. `LotFrontage`"
   ]
  },
  {
   "cell_type": "code",
   "execution_count": 65,
   "metadata": {
    "tags": []
   },
   "outputs": [],
   "source": [
    "# Suppose we want to fill missing data in the LotFrontage column \n",
    "# What datatype is it?\n",
    "\n"
   ]
  },
  {
   "cell_type": "markdown",
   "metadata": {},
   "source": [
    "**When to Fill Null Values with Median or Mean?**\n",
    "\n",
    "**Use Mean:**\n",
    "- *When Data is Normally Distributed:* If your data follows a normal distribution, the mean is a good measure of central tendency. It accurately represents the \"average\" value and can be a reasonable choice for filling missing values.\n",
    "\n",
    "- *When Outliers are Not a Concern:* The mean is sensitive to outliers. If your data has extreme values (outliers) that you want to minimize the impact of, using the mean might not be the best choice. In such cases, consider other measures like the median.\n",
    "\n",
    "**Use Median:**\n",
    "- *When Data has Skewed Distribution:* If your data is not symmetrically distributed and has a skew, the median is often a better measure of central tendency. It is less sensitive to extreme values and provides a robust estimate.\n",
    "\n",
    "- *When Outliers are Present:* The median is not influenced by extreme values, making it a more suitable choice when outliers are a concern. It gives a better representation of the central tendency in the presence of skewed or heavily tailed distributions.\n",
    "\n",
    "**Considerations for Both:**\n",
    "- In some cases, the choice between mean and median may depend on the specific context of your analysis and the variable's meaning. For instance, in financial data, imputing with the mean might be appropriate.\n",
    "\n",
    "- Always carefully assess your data and the goals of your analysis before deciding on an imputation strategy. It's often beneficial to try multiple imputation methods and compare.\n"
   ]
  },
  {
   "cell_type": "code",
   "execution_count": 66,
   "metadata": {
    "tags": []
   },
   "outputs": [],
   "source": [
    "# NEXT LESSON\n"
   ]
  },
  {
   "cell_type": "code",
   "execution_count": 67,
   "metadata": {
    "tags": []
   },
   "outputs": [],
   "source": [
    "# NEXT LESSON\n"
   ]
  },
  {
   "cell_type": "code",
   "execution_count": 68,
   "metadata": {
    "tags": []
   },
   "outputs": [],
   "source": [
    "# Let's take a quick peek\n",
    "\n"
   ]
  },
  {
   "cell_type": "markdown",
   "metadata": {},
   "source": [
    "Row number 8 has missing value.\n",
    "\n",
    "Suppose we want to fill all missing data in that column with the median."
   ]
  },
  {
   "cell_type": "code",
   "execution_count": 69,
   "metadata": {
    "tags": []
   },
   "outputs": [],
   "source": [
    "# Compute median\n",
    "\n"
   ]
  },
  {
   "cell_type": "code",
   "execution_count": 70,
   "metadata": {
    "tags": []
   },
   "outputs": [],
   "source": [
    "# Impute missing data in LotFrontage with median\n"
   ]
  },
  {
   "cell_type": "markdown",
   "metadata": {},
   "source": [
    "Row number 8 has been filled with the median of the LotFrontage column that is 69."
   ]
  },
  {
   "cell_type": "markdown",
   "metadata": {},
   "source": [
    "#### Part B. `GarageType`\n",
    "\n",
    "Now let's look at an example of a categorical variable like GarageType."
   ]
  },
  {
   "cell_type": "code",
   "execution_count": 71,
   "metadata": {
    "tags": []
   },
   "outputs": [],
   "source": [
    "# Check data type of GarageType column\n",
    "\n"
   ]
  },
  {
   "cell_type": "code",
   "execution_count": 72,
   "metadata": {
    "tags": []
   },
   "outputs": [],
   "source": [
    "# Let's see the value counts in that column including the null value\n",
    "\n"
   ]
  },
  {
   "cell_type": "code",
   "execution_count": 73,
   "metadata": {},
   "outputs": [],
   "source": [
    "# Grab the mode\n"
   ]
  },
  {
   "cell_type": "code",
   "execution_count": null,
   "metadata": {
    "scrolled": true
   },
   "outputs": [],
   "source": []
  },
  {
   "cell_type": "code",
   "execution_count": 74,
   "metadata": {
    "tags": []
   },
   "outputs": [],
   "source": [
    "# Fill it in!\n"
   ]
  },
  {
   "cell_type": "markdown",
   "metadata": {},
   "source": [
    "#### Part C. `GarageQual`\n",
    "\n",
    "We can also fill the missing data with any number or text that we like. Let's consider the GarageQual feature.\n",
    "\n",
    "Suppose we want to replace the null values with the word 'Unknown'."
   ]
  },
  {
   "cell_type": "code",
   "execution_count": null,
   "metadata": {
    "tags": []
   },
   "outputs": [],
   "source": []
  },
  {
   "cell_type": "code",
   "execution_count": null,
   "metadata": {
    "tags": []
   },
   "outputs": [],
   "source": []
  },
  {
   "cell_type": "code",
   "execution_count": 75,
   "metadata": {
    "tags": []
   },
   "outputs": [],
   "source": [
    "# How would I save this dataframe?\n",
    "\n"
   ]
  },
  {
   "cell_type": "code",
   "execution_count": null,
   "metadata": {},
   "outputs": [],
   "source": []
  },
  {
   "cell_type": "markdown",
   "metadata": {},
   "source": [
    "---"
   ]
  },
  {
   "cell_type": "markdown",
   "metadata": {},
   "source": [
    "# <span style=\"color:#D34B47\">📌 Combining Datasets ⛙</span>"
   ]
  },
  {
   "cell_type": "markdown",
   "metadata": {},
   "source": [
    "When working with multiple datasets during a project, there will come a point where you might wish to merge your dataframes together to have a better view and understanding of your data. \n",
    "\n",
    "In this last part of the lesson, we will cover two pandas functions, and they are [concat](https://pandas.pydata.org/pandas-docs/stable/reference/api/pandas.concat.html) and [merge](https://pandas.pydata.org/pandas-docs/stable/reference/api/pandas.DataFrame.merge.html) that are used to combine dataframes."
   ]
  },
  {
   "cell_type": "markdown",
   "metadata": {},
   "source": [
    "## Concat\n",
    "\n",
    "Concat is short for concatenate. This function allows to stack two separate dataframes both vertically and horizontally.\n",
    "\n",
    "Let's observe this with an example."
   ]
  },
  {
   "cell_type": "code",
   "execution_count": 76,
   "metadata": {},
   "outputs": [],
   "source": [
    "df1 = pd.DataFrame({'Name': ['Vicky', 'Bill'], 'Age': [12, 46]})\n",
    "df2 = pd.DataFrame({'Name': ['John', 'Sabrina'], 'Age': [37, 25]})"
   ]
  },
  {
   "cell_type": "code",
   "execution_count": null,
   "metadata": {
    "tags": []
   },
   "outputs": [],
   "source": []
  },
  {
   "cell_type": "code",
   "execution_count": null,
   "metadata": {},
   "outputs": [],
   "source": []
  },
  {
   "cell_type": "markdown",
   "metadata": {},
   "source": [
    "There is an argument called axis within the concat function that you can use to specify which way you would like to stack your dataframe. 1 means horizontal whereas 0 means vertical. If you do not specify, pandas assumes 0 as its default. \n",
    "\n",
    "You can also use the ignore index function if you would like a sequential index column in the new dataframe."
   ]
  },
  {
   "cell_type": "code",
   "execution_count": 77,
   "metadata": {},
   "outputs": [],
   "source": [
    "# Concat horizontally\n",
    "\n"
   ]
  },
  {
   "cell_type": "code",
   "execution_count": 78,
   "metadata": {},
   "outputs": [],
   "source": [
    "# Concat vertically and ignore index\n",
    "\n"
   ]
  },
  {
   "cell_type": "markdown",
   "metadata": {},
   "source": [
    "There is another argument called join which allows you to stack dataframes only based on the columns shared by two dataframes.\n",
    "\n",
    "To demonstrate this, suppose we have a new dataframe with an extra column for hobby."
   ]
  },
  {
   "cell_type": "code",
   "execution_count": 79,
   "metadata": {
    "scrolled": true
   },
   "outputs": [
    {
     "data": {
      "text/html": [
       "<div>\n",
       "<style scoped>\n",
       "    .dataframe tbody tr th:only-of-type {\n",
       "        vertical-align: middle;\n",
       "    }\n",
       "\n",
       "    .dataframe tbody tr th {\n",
       "        vertical-align: top;\n",
       "    }\n",
       "\n",
       "    .dataframe thead th {\n",
       "        text-align: right;\n",
       "    }\n",
       "</style>\n",
       "<table border=\"1\" class=\"dataframe\">\n",
       "  <thead>\n",
       "    <tr style=\"text-align: right;\">\n",
       "      <th></th>\n",
       "      <th>Name</th>\n",
       "      <th>Age</th>\n",
       "      <th>Hobby</th>\n",
       "    </tr>\n",
       "  </thead>\n",
       "  <tbody>\n",
       "    <tr>\n",
       "      <th>0</th>\n",
       "      <td>Tyler</td>\n",
       "      <td>28</td>\n",
       "      <td>Swimming</td>\n",
       "    </tr>\n",
       "    <tr>\n",
       "      <th>1</th>\n",
       "      <td>Natalie</td>\n",
       "      <td>39</td>\n",
       "      <td>Reading</td>\n",
       "    </tr>\n",
       "  </tbody>\n",
       "</table>\n",
       "</div>"
      ],
      "text/plain": [
       "      Name  Age     Hobby\n",
       "0    Tyler   28  Swimming\n",
       "1  Natalie   39   Reading"
      ]
     },
     "execution_count": 79,
     "metadata": {},
     "output_type": "execute_result"
    }
   ],
   "source": [
    "df4 = pd.DataFrame({'Name': ['Tyler', 'Natalie'], 'Age': [28, 39], 'Hobby': ['Swimming', 'Reading']})\n",
    "df4"
   ]
  },
  {
   "cell_type": "code",
   "execution_count": 80,
   "metadata": {},
   "outputs": [],
   "source": [
    "# Outer is the default for the join argument\n",
    "\n"
   ]
  },
  {
   "cell_type": "markdown",
   "metadata": {},
   "source": [
    "Outer does not consider any differences in columns between two dataframe. Because df3 does not have a hobby column, pandas will automatically fill them with null values."
   ]
  },
  {
   "cell_type": "code",
   "execution_count": 81,
   "metadata": {},
   "outputs": [],
   "source": [
    "# Inner stacks only the columns that are shared between the two dataframes\n",
    "\n"
   ]
  },
  {
   "cell_type": "markdown",
   "metadata": {},
   "source": [
    "Because df3 does not have the hobby column, pandas will not show that column in the combined dataframe."
   ]
  },
  {
   "cell_type": "markdown",
   "metadata": {},
   "source": [
    "## Merge\n",
    "\n",
    "To demonstrate the idea of merge, let's read in two ficticious datasets that I have created-- One for sales data and one for customer profile."
   ]
  },
  {
   "cell_type": "code",
   "execution_count": null,
   "metadata": {
    "tags": []
   },
   "outputs": [],
   "source": []
  },
  {
   "cell_type": "code",
   "execution_count": 82,
   "metadata": {
    "tags": []
   },
   "outputs": [],
   "source": [
    "# customers head\n"
   ]
  },
  {
   "cell_type": "code",
   "execution_count": 83,
   "metadata": {
    "tags": []
   },
   "outputs": [],
   "source": [
    "# customers shape\n"
   ]
  },
  {
   "cell_type": "code",
   "execution_count": 84,
   "metadata": {
    "tags": []
   },
   "outputs": [],
   "source": [
    "# There are 100 unique customer ID which means that they are unique to each row\n",
    "\n"
   ]
  },
  {
   "cell_type": "code",
   "execution_count": 85,
   "metadata": {
    "tags": []
   },
   "outputs": [],
   "source": [
    "# sales head\n"
   ]
  },
  {
   "cell_type": "code",
   "execution_count": 86,
   "metadata": {
    "tags": []
   },
   "outputs": [],
   "source": [
    "# sales shape\n"
   ]
  },
  {
   "cell_type": "code",
   "execution_count": 87,
   "metadata": {
    "tags": []
   },
   "outputs": [],
   "source": [
    "# Date is not in order so sort data by date\n"
   ]
  },
  {
   "cell_type": "code",
   "execution_count": 88,
   "metadata": {},
   "outputs": [],
   "source": [
    "# Select sales made by customer with customer ID number 1\n",
    "\n"
   ]
  },
  {
   "cell_type": "code",
   "execution_count": 89,
   "metadata": {},
   "outputs": [],
   "source": [
    "# Merge the two dataframes together\n",
    "\n"
   ]
  },
  {
   "cell_type": "code",
   "execution_count": 90,
   "metadata": {},
   "outputs": [
    {
     "ename": "NameError",
     "evalue": "name 'sales' is not defined",
     "output_type": "error",
     "traceback": [
      "\u001b[0;31m---------------------------------------------------------------------------\u001b[0m",
      "\u001b[0;31mNameError\u001b[0m                                 Traceback (most recent call last)",
      "Cell \u001b[0;32mIn[90], line 1\u001b[0m\n\u001b[0;32m----> 1\u001b[0m \u001b[38;5;28mprint\u001b[39m(\u001b[38;5;124m\"\u001b[39m\u001b[38;5;124mShape of sales data is: \u001b[39m\u001b[38;5;124m\"\u001b[39m, \u001b[43msales\u001b[49m\u001b[38;5;241m.\u001b[39mshape)\n\u001b[1;32m      2\u001b[0m \u001b[38;5;28mprint\u001b[39m(\u001b[38;5;124m\"\u001b[39m\u001b[38;5;124mShape of customer data is: \u001b[39m\u001b[38;5;124m\"\u001b[39m, customers\u001b[38;5;241m.\u001b[39mshape)\n\u001b[1;32m      3\u001b[0m \u001b[38;5;28mprint\u001b[39m(\u001b[38;5;124m\"\u001b[39m\u001b[38;5;124mShape of the combined dataframe is: \u001b[39m\u001b[38;5;124m\"\u001b[39m, combined\u001b[38;5;241m.\u001b[39mshape)\n",
      "\u001b[0;31mNameError\u001b[0m: name 'sales' is not defined"
     ]
    }
   ],
   "source": [
    "print(\"Shape of sales data is: \", sales.shape)\n",
    "print(\"Shape of customer data is: \", customers.shape)\n",
    "print(\"Shape of the combined dataframe is: \", combined.shape)"
   ]
  },
  {
   "cell_type": "markdown",
   "metadata": {},
   "source": [
    "As we can see, merge has successfully joined the two dataframes together based on a shared column which is customer ID.\n",
    "\n",
    "The combined dataframe has the same number of rows as the sales dataframe but with an additional column, customer lifestage which came from the customer dataframe."
   ]
  },
  {
   "cell_type": "markdown",
   "metadata": {},
   "source": [
    "Now, we are going to explore the how argument within the merge function which allows you to specify the direction in which you would like to merge your dataframes."
   ]
  },
  {
   "cell_type": "code",
   "execution_count": null,
   "metadata": {},
   "outputs": [],
   "source": [
    "size = pd.DataFrame({'Colour': ['Red', 'Blue', 'Green'], 'Size': ['M', 'S', 'M']})\n",
    "gender = pd.DataFrame({'Colour': ['Red', 'Blue', 'Yellow'], 'Sex': ['Female', 'Female', 'Male']})"
   ]
  },
  {
   "cell_type": "code",
   "execution_count": null,
   "metadata": {},
   "outputs": [],
   "source": []
  },
  {
   "cell_type": "code",
   "execution_count": null,
   "metadata": {},
   "outputs": [],
   "source": []
  },
  {
   "cell_type": "markdown",
   "metadata": {},
   "source": [
    "Inner and outer are very similar to what we have seen in the concat section earlier in this notebook."
   ]
  },
  {
   "cell_type": "code",
   "execution_count": null,
   "metadata": {
    "scrolled": true
   },
   "outputs": [],
   "source": [
    "# Only show rows where there is a match in the column\n",
    "# Red and blue are present in both dataframes\n",
    "\n"
   ]
  },
  {
   "cell_type": "code",
   "execution_count": null,
   "metadata": {},
   "outputs": [],
   "source": [
    "# Show all the rows and fill rows with null values when there is no match\n",
    "# There is no sex info on green colour and there is no size info on yellow colour\n",
    "\n"
   ]
  },
  {
   "cell_type": "markdown",
   "metadata": {},
   "source": [
    "Left and right on the other hand allows you to specify which dataframe to keep when there is no matching rows."
   ]
  },
  {
   "cell_type": "code",
   "execution_count": null,
   "metadata": {
    "scrolled": true
   },
   "outputs": [],
   "source": [
    "# Keep everything that is on the left dataframe which is df1 in this example\n",
    "# Fill in sex info for rows that have matches with df2 and if there is none e.g. green colour, fill null value\n",
    "\n"
   ]
  },
  {
   "cell_type": "code",
   "execution_count": null,
   "metadata": {
    "tags": []
   },
   "outputs": [],
   "source": [
    "# Keep everything that is on the right dataframe which is df2 in this example\n",
    "# Fill in size info for rows that have matches with df1 and if there is none e.g. yellow colour, fill null value\n",
    "\n"
   ]
  },
  {
   "cell_type": "markdown",
   "metadata": {},
   "source": [
    "<details>\n",
    "    <summary><h1>WE MADE IT! 🎉 </h1></summary>\n",
    "  \n",
    "  ![](https://media3.giphy.com/media/aUhEBE0T8XNHa/giphy.gif)\n",
    "\n",
    "</details>\n"
   ]
  }
 ],
 "metadata": {
  "kernelspec": {
   "display_name": "Python 3",
   "language": "python",
   "name": "python3"
  },
  "language_info": {
   "codemirror_mode": {
    "name": "ipython",
    "version": 3
   },
   "file_extension": ".py",
   "mimetype": "text/x-python",
   "name": "python",
   "nbconvert_exporter": "python",
   "pygments_lexer": "ipython3",
   "version": "3.12.5"
  }
 },
 "nbformat": 4,
 "nbformat_minor": 4
}
