{
 "cells": [
  {
   "cell_type": "markdown",
   "id": "167c886a-0d9d-48f7-b605-11c0ec7b8015",
   "metadata": {},
   "source": [
    "# Your Turn!"
   ]
  },
  {
   "cell_type": "code",
   "execution_count": 3,
   "id": "f7bdfcde-ace9-45cd-b009-697c0a49ad86",
   "metadata": {},
   "outputs": [
    {
     "name": "stdout",
     "output_type": "stream",
     "text": [
      "Hello, my name is Ken!\n"
     ]
    }
   ],
   "source": [
    "# In this cell, print \"Hello, my name is {your name}\"\n",
    "name = \"Ken\"\n",
    "print(f\"Hello, my name is {name}!\")"
   ]
  }
 ],
 "metadata": {
  "kernelspec": {
   "display_name": "Python 3",
   "language": "python",
   "name": "python3"
  },
  "language_info": {
   "codemirror_mode": {
    "name": "ipython",
    "version": 3
   },
   "file_extension": ".py",
   "mimetype": "text/x-python",
   "name": "python",
   "nbconvert_exporter": "python",
   "pygments_lexer": "ipython3",
   "version": "3.12.5"
  }
 },
 "nbformat": 4,
 "nbformat_minor": 5
}
