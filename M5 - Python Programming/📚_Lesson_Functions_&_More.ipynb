{
  "cells": [
    {
      "cell_type": "markdown",
      "metadata": {
        "id": "3E2D_PWb6BdA"
      },
      "source": [
        "<div>\n",
        "<img src=\"https://coursereport-s3-production.global.ssl.fastly.net/uploads/school/logo/219/original/CT_LOGO_NEW.jpg\" width=60>\n",
        "</div>\n",
        "\n",
        "#  **Functions & More**\n",
        "\n",
        "*Be sure to be following along with the lesson page before progressing in this notebook!*"
      ]
    },
    {
      "cell_type": "markdown",
      "source": [
        "## **🛝 Practice Playground** - Section 1\n",
        "To create a function in Python, you use the def keyword followed by the name of the function, a set of parentheses, and a colon. Inside the parentheses, you can optionally include parameters, which are variables that accept values passed into the function. After the colon, the function body starts, indented by one level."
      ],
      "metadata": {
        "id": "YOUiHU27y0mn"
      }
    },
    {
      "cell_type": "code",
      "execution_count": null,
      "metadata": {
        "id": "ZvzqVRb86BdP"
      },
      "outputs": [],
      "source": [
        "# Run this cell!\n",
        "\n",
        "def greet(name):\n",
        "    print(f\"Hello, {name}!\")"
      ]
    },
    {
      "cell_type": "code",
      "execution_count": null,
      "metadata": {
        "id": "YbetqlU_6BdP",
        "colab": {
          "base_uri": "https://localhost:8080/"
        },
        "outputId": "27390f99-e8af-4071-8fa6-42e077b7f1cc"
      },
      "outputs": [
        {
          "output_type": "stream",
          "name": "stdout",
          "text": [
            "Hello, Alice!\n"
          ]
        }
      ],
      "source": [
        "# Run this cell!\n",
        "\n",
        "greet(\"Alice\")"
      ]
    },
    {
      "cell_type": "code",
      "source": [
        "# Run this cell!\n",
        "\n",
        "greet(\"Bob\")"
      ],
      "metadata": {
        "id": "COZbkLYTs56N",
        "colab": {
          "base_uri": "https://localhost:8080/"
        },
        "outputId": "b9f522a2-3407-44a0-f91b-db7709df8db0"
      },
      "execution_count": null,
      "outputs": [
        {
          "output_type": "stream",
          "name": "stdout",
          "text": [
            "Hello, Bob!\n"
          ]
        }
      ]
    },
    {
      "cell_type": "markdown",
      "source": [
        "## **🛝 Practice Playground** - Section 2\n",
        "Functions in Python can accept parameters, allowing you to pass different values to them each time they are called. Parameters act as placeholders within a function definition and are used when defining a function. When you call a function, you provide arguments, which are the actual values that replace these placeholders."
      ],
      "metadata": {
        "id": "ymC_eEixVkuW"
      }
    },
    {
      "cell_type": "code",
      "source": [
        "# Run this cell!\n",
        "\n",
        "def calculate_area(length, width):\n",
        "    area = length * width\n",
        "    return area"
      ],
      "metadata": {
        "id": "i871jVSQtfuw"
      },
      "execution_count": null,
      "outputs": []
    },
    {
      "cell_type": "code",
      "source": [
        "# Run this cell!\n",
        "\n",
        "calculate_area(10, 5)"
      ],
      "metadata": {
        "id": "tQos8pV9Y8qI",
        "colab": {
          "base_uri": "https://localhost:8080/"
        },
        "outputId": "fc5ab9ae-e318-4e87-bd21-e39fefc41677"
      },
      "execution_count": null,
      "outputs": [
        {
          "output_type": "execute_result",
          "data": {
            "text/plain": [
              "50"
            ]
          },
          "metadata": {},
          "execution_count": 5
        }
      ]
    },
    {
      "cell_type": "code",
      "source": [
        "# Run this cell!\n",
        "\n",
        "calculate_area(2, 10)"
      ],
      "metadata": {
        "id": "N6KpyYfBWEY5",
        "colab": {
          "base_uri": "https://localhost:8080/"
        },
        "outputId": "a116e630-2118-4061-83d0-04063be81fe6"
      },
      "execution_count": null,
      "outputs": [
        {
          "output_type": "execute_result",
          "data": {
            "text/plain": [
              "20"
            ]
          },
          "metadata": {},
          "execution_count": 6
        }
      ]
    },
    {
      "cell_type": "code",
      "source": [
        "# Run this cell!\n",
        "\n",
        "calculate_area(width = 10, length = 2)"
      ],
      "metadata": {
        "id": "g4Kb_zsyZFI4",
        "colab": {
          "base_uri": "https://localhost:8080/"
        },
        "outputId": "4c1f912a-0799-40e7-e21f-0449aaa28929"
      },
      "execution_count": null,
      "outputs": [
        {
          "output_type": "execute_result",
          "data": {
            "text/plain": [
              "20"
            ]
          },
          "metadata": {},
          "execution_count": 7
        }
      ]
    },
    {
      "cell_type": "markdown",
      "source": [
        "## **🛝 Practice Playground** - Section 3\n",
        "Understanding the distinction between print and return in functions is crucial for effective Python programming."
      ],
      "metadata": {
        "id": "c6CWgHoz0u9r"
      }
    },
    {
      "cell_type": "code",
      "source": [
        "# Run this cell!\n",
        "\n",
        "def function_print():\n",
        "    print(\"Hello from print!\")"
      ],
      "metadata": {
        "id": "6-YXKtt4qPXV"
      },
      "execution_count": null,
      "outputs": []
    },
    {
      "cell_type": "code",
      "source": [
        "# Run this cell!\n",
        "\n",
        "function_print()"
      ],
      "metadata": {
        "id": "5J6BJHUeaH9g",
        "colab": {
          "base_uri": "https://localhost:8080/"
        },
        "outputId": "996c019d-440b-407a-d082-67aafd512500"
      },
      "execution_count": null,
      "outputs": [
        {
          "output_type": "stream",
          "name": "stdout",
          "text": [
            "Hello from print!\n"
          ]
        }
      ]
    },
    {
      "cell_type": "code",
      "source": [
        "# Run this cell!\n",
        "\n",
        "result = function_print()\n",
        "result # Output: None"
      ],
      "metadata": {
        "id": "Dqjr8OFuaIVp",
        "colab": {
          "base_uri": "https://localhost:8080/"
        },
        "outputId": "4b779036-8dad-4a3f-8f4f-dc801943da50"
      },
      "execution_count": null,
      "outputs": [
        {
          "output_type": "stream",
          "name": "stdout",
          "text": [
            "Hello from print!\n"
          ]
        }
      ]
    },
    {
      "cell_type": "code",
      "source": [
        "# Run this cell!\n",
        "\n",
        "def function_return():\n",
        "    return \"Hello from return!\""
      ],
      "metadata": {
        "id": "BY__DPkzaITf"
      },
      "execution_count": null,
      "outputs": []
    },
    {
      "cell_type": "code",
      "source": [
        "# Run this cell!\n",
        "\n",
        "result = function_return()\n",
        "result"
      ],
      "metadata": {
        "id": "DayDm037cGC3",
        "colab": {
          "base_uri": "https://localhost:8080/",
          "height": 35
        },
        "outputId": "c84f3ee5-e979-44af-fc54-6684d5e61530"
      },
      "execution_count": null,
      "outputs": [
        {
          "output_type": "execute_result",
          "data": {
            "text/plain": [
              "'Hello from return!'"
            ],
            "application/vnd.google.colaboratory.intrinsic+json": {
              "type": "string"
            }
          },
          "metadata": {},
          "execution_count": 12
        }
      ]
    },
    {
      "cell_type": "code",
      "source": [
        "# Run this cell!\n",
        "\n",
        "def get_double(x):\n",
        "    return x * 2"
      ],
      "metadata": {
        "id": "gwSnGGk7wVay"
      },
      "execution_count": null,
      "outputs": []
    },
    {
      "cell_type": "code",
      "source": [
        "# Run this cell!\n",
        "\n",
        "doubled_value = get_double(10)\n",
        "doubled_value"
      ],
      "metadata": {
        "id": "xbmr-nFdcQuS",
        "colab": {
          "base_uri": "https://localhost:8080/"
        },
        "outputId": "6966e073-4da9-47b0-b3cd-81034c3ff947"
      },
      "execution_count": null,
      "outputs": [
        {
          "output_type": "execute_result",
          "data": {
            "text/plain": [
              "20"
            ]
          },
          "metadata": {},
          "execution_count": 14
        }
      ]
    },
    {
      "cell_type": "code",
      "source": [
        "# Run this cell!\n",
        "\n",
        "def get_stats(numbers):\n",
        "    return max(numbers), min(numbers), sum(numbers) / len(numbers)"
      ],
      "metadata": {
        "id": "gRbBloZ0cQn8"
      },
      "execution_count": null,
      "outputs": []
    },
    {
      "cell_type": "code",
      "source": [
        "# Run this cell!\n",
        "\n",
        "max_val, min_val, avg_val = get_stats([1, 2, 3, 4, 5])\n",
        "\n",
        "print(f\"Maximum value: {max_val}\")\n",
        "print(f\"Minimum value: {min_val}\")\n",
        "print(f\"Average value: {avg_val}\")"
      ],
      "metadata": {
        "id": "v4zyWi3WcQli",
        "colab": {
          "base_uri": "https://localhost:8080/"
        },
        "outputId": "695eeb8a-9c95-494a-9faf-761c85a9ea4c"
      },
      "execution_count": null,
      "outputs": [
        {
          "output_type": "stream",
          "name": "stdout",
          "text": [
            "Maximum value: 5\n",
            "Minimum value: 1\n",
            "Average value: 3.0\n"
          ]
        }
      ]
    },
    {
      "cell_type": "markdown",
      "source": [
        "---"
      ],
      "metadata": {
        "id": "ysRhcsKft27B"
      }
    },
    {
      "cell_type": "markdown",
      "metadata": {
        "id": "gqQArSbM6BdE"
      },
      "source": [
        "## **🛝 Practice Playground** - Section 4\n",
        "Sometimes the best way to learn about functions is to see more and more examples of them, so let's dive into some additional examples to solidify your understanding."
      ]
    },
    {
      "cell_type": "code",
      "source": [
        "# Run this cell!\n",
        "\n",
        "def get_initials(first, last):\n",
        "    first_init = first[0].upper()\n",
        "    last_init = last[0].upper()\n",
        "    return f'{first_init}.{last_init}.'"
      ],
      "metadata": {
        "id": "LholcXPzb-Yl"
      },
      "execution_count": null,
      "outputs": []
    },
    {
      "cell_type": "code",
      "source": [
        "# Run this cell!\n",
        "\n",
        "get_initials('katie', 'sylvia')"
      ],
      "metadata": {
        "id": "jiaSzKv5hZey",
        "colab": {
          "base_uri": "https://localhost:8080/",
          "height": 35
        },
        "outputId": "9b5a85a6-e8f1-4cf8-e99e-5fb5cb30e461"
      },
      "execution_count": null,
      "outputs": [
        {
          "output_type": "execute_result",
          "data": {
            "text/plain": [
              "'K.S.'"
            ],
            "application/vnd.google.colaboratory.intrinsic+json": {
              "type": "string"
            }
          },
          "metadata": {},
          "execution_count": 18
        }
      ]
    },
    {
      "cell_type": "code",
      "source": [
        "# Run this cell!\n",
        "\n",
        "get_initials('tom', 'hanks')"
      ],
      "metadata": {
        "id": "ma9H6hXodsLe",
        "colab": {
          "base_uri": "https://localhost:8080/",
          "height": 35
        },
        "outputId": "717ddfa0-cba0-46f6-8ea2-53a5948c3ba0"
      },
      "execution_count": null,
      "outputs": [
        {
          "output_type": "execute_result",
          "data": {
            "text/plain": [
              "'T.H.'"
            ],
            "application/vnd.google.colaboratory.intrinsic+json": {
              "type": "string"
            }
          },
          "metadata": {},
          "execution_count": 19
        }
      ]
    },
    {
      "cell_type": "code",
      "source": [
        "# Run this cell!\n",
        "\n",
        "def my_mean(nums):\n",
        "    total = sum(nums)\n",
        "    n = len(nums)\n",
        "    return total / n"
      ],
      "metadata": {
        "id": "sdeKYCAfdsJU"
      },
      "execution_count": null,
      "outputs": []
    },
    {
      "cell_type": "code",
      "source": [
        "# Run this cell!\n",
        "\n",
        "my_mean([1, 3, 4, 5])"
      ],
      "metadata": {
        "id": "_e06eyeZdsHC",
        "colab": {
          "base_uri": "https://localhost:8080/"
        },
        "outputId": "3f66fc00-a4dc-4ec7-d15e-f08345d99c5a"
      },
      "execution_count": null,
      "outputs": [
        {
          "output_type": "execute_result",
          "data": {
            "text/plain": [
              "3.25"
            ]
          },
          "metadata": {},
          "execution_count": 21
        }
      ]
    },
    {
      "cell_type": "code",
      "source": [
        "# Run this cell!\n",
        "\n",
        "my_mean([85, 92, 97, 100, 88])"
      ],
      "metadata": {
        "id": "6kpyRAE5dsEj",
        "colab": {
          "base_uri": "https://localhost:8080/"
        },
        "outputId": "1c268580-a0fb-4c4e-f01f-73693c5647e3"
      },
      "execution_count": null,
      "outputs": [
        {
          "output_type": "execute_result",
          "data": {
            "text/plain": [
              "92.4"
            ]
          },
          "metadata": {},
          "execution_count": 22
        }
      ]
    },
    {
      "cell_type": "code",
      "source": [
        "# Run this cell!\n",
        "\n",
        "def count_vowels(input_str):\n",
        "    n_vowels = 0\n",
        "    for char in input_str.lower():\n",
        "        if char in 'aeiou':\n",
        "            n_vowels += 2\n",
        "\n",
        "    return n_vowels"
      ],
      "metadata": {
        "id": "tN7e8-9pdyP3"
      },
      "execution_count": null,
      "outputs": []
    },
    {
      "cell_type": "code",
      "source": [
        "# Run this cell!\n",
        "\n",
        "count_vowels(\"hello world\")"
      ],
      "metadata": {
        "id": "CcrFCOpFdyNs",
        "colab": {
          "base_uri": "https://localhost:8080/"
        },
        "outputId": "8f059c78-790b-4ecd-b38a-a38dc6f5ec1b"
      },
      "execution_count": null,
      "outputs": [
        {
          "output_type": "execute_result",
          "data": {
            "text/plain": [
              "6"
            ]
          },
          "metadata": {},
          "execution_count": 27
        }
      ]
    },
    {
      "cell_type": "code",
      "source": [
        "# Run this cell!\n",
        "\n",
        "count_vowels(\"You'll get the hang of python functions!\")"
      ],
      "metadata": {
        "id": "HYYawwzndyLd",
        "colab": {
          "base_uri": "https://localhost:8080/"
        },
        "outputId": "27ce5d0b-f57c-45b0-8967-92fe6298d345"
      },
      "execution_count": null,
      "outputs": [
        {
          "output_type": "execute_result",
          "data": {
            "text/plain": [
              "20"
            ]
          },
          "metadata": {},
          "execution_count": 28
        }
      ]
    },
    {
      "cell_type": "markdown",
      "source": [
        "## **🛝 Practice Playground** - Section 5\n",
        "\n",
        "Default parameters allow you to set default values for function arguments. These values are used if no specific value is passed during the function call. This feature enhances function flexibility, allowing it to operate under various scenarios without additional input from the user."
      ],
      "metadata": {
        "id": "xcP6OwzZnd2s"
      }
    },
    {
      "cell_type": "code",
      "source": [
        "# Run this cell!\n",
        "\n",
        "def greet(name, message=\"Hello\"):\n",
        "    return f\"{message}, {name}!\""
      ],
      "metadata": {
        "id": "fWeEjTMxnddR"
      },
      "execution_count": null,
      "outputs": []
    },
    {
      "cell_type": "code",
      "source": [
        "# Run this cell!\n",
        "\n",
        "greet(\"Alice\")"
      ],
      "metadata": {
        "id": "Dx_K9bypf5hM",
        "colab": {
          "base_uri": "https://localhost:8080/",
          "height": 35
        },
        "outputId": "6f801b9b-88c0-4797-9dab-0134c23049ed"
      },
      "execution_count": null,
      "outputs": [
        {
          "output_type": "execute_result",
          "data": {
            "text/plain": [
              "'Hello, Alice!'"
            ],
            "application/vnd.google.colaboratory.intrinsic+json": {
              "type": "string"
            }
          },
          "metadata": {},
          "execution_count": 30
        }
      ]
    },
    {
      "cell_type": "code",
      "source": [
        "# Run this cell!\n",
        "\n",
        "greet(\"Alice\", \"bye\")"
      ],
      "metadata": {
        "id": "ebS53bx-e8W9",
        "colab": {
          "base_uri": "https://localhost:8080/",
          "height": 35
        },
        "outputId": "652d2a6c-3c94-4080-a9a1-7840319ed682"
      },
      "execution_count": null,
      "outputs": [
        {
          "output_type": "execute_result",
          "data": {
            "text/plain": [
              "'bye, Alice!'"
            ],
            "application/vnd.google.colaboratory.intrinsic+json": {
              "type": "string"
            }
          },
          "metadata": {},
          "execution_count": 31
        }
      ]
    },
    {
      "cell_type": "code",
      "source": [
        "# Run this cell!\n",
        "\n",
        "def describe_weather(city, temperature=75):\n",
        "    return f\"It's currently {temperature}°F in {city}.\""
      ],
      "metadata": {
        "id": "Hpko8vzDfAnD"
      },
      "execution_count": null,
      "outputs": []
    },
    {
      "cell_type": "code",
      "source": [
        "# Run this cell!\n",
        "\n",
        "describe_weather(\"Miami\")"
      ],
      "metadata": {
        "id": "hYdVX8ZXfAlK",
        "colab": {
          "base_uri": "https://localhost:8080/",
          "height": 35
        },
        "outputId": "a20e4c5b-a3c7-4523-ba31-2ff6463cc354"
      },
      "execution_count": null,
      "outputs": [
        {
          "output_type": "execute_result",
          "data": {
            "text/plain": [
              "\"It's currently 75°F in Miami.\""
            ],
            "application/vnd.google.colaboratory.intrinsic+json": {
              "type": "string"
            }
          },
          "metadata": {},
          "execution_count": 33
        }
      ]
    },
    {
      "cell_type": "code",
      "source": [
        "# Run this cell!\n",
        "\n",
        "describe_weather(\"San Francisco\", 65)"
      ],
      "metadata": {
        "id": "CaYRE65cfAjM",
        "colab": {
          "base_uri": "https://localhost:8080/",
          "height": 35
        },
        "outputId": "e905f090-d5ae-48fe-9dc0-16b7848ad942"
      },
      "execution_count": null,
      "outputs": [
        {
          "output_type": "execute_result",
          "data": {
            "text/plain": [
              "\"It's currently 65°F in San Francisco.\""
            ],
            "application/vnd.google.colaboratory.intrinsic+json": {
              "type": "string"
            }
          },
          "metadata": {},
          "execution_count": 34
        }
      ]
    },
    {
      "cell_type": "code",
      "source": [
        "# Run this cell!\n",
        "\n",
        "def power(base, exponent=2):\n",
        "    return base ** exponent"
      ],
      "metadata": {
        "id": "0tyQJYgBfAhP"
      },
      "execution_count": null,
      "outputs": []
    },
    {
      "cell_type": "code",
      "source": [
        "# Run this cell!\n",
        "\n",
        "power(3)"
      ],
      "metadata": {
        "id": "JnxZWMdafAfF",
        "colab": {
          "base_uri": "https://localhost:8080/"
        },
        "outputId": "f2ba36b3-84c5-4778-9b78-966aaefe21dc"
      },
      "execution_count": null,
      "outputs": [
        {
          "output_type": "execute_result",
          "data": {
            "text/plain": [
              "9"
            ]
          },
          "metadata": {},
          "execution_count": 36
        }
      ]
    },
    {
      "cell_type": "code",
      "source": [
        "# Run this cell!\n",
        "\n",
        "power(3,3)"
      ],
      "metadata": {
        "id": "clud1IYAfMRj",
        "colab": {
          "base_uri": "https://localhost:8080/"
        },
        "outputId": "c2b56793-2849-41a8-f01c-3d3ed1281d30"
      },
      "execution_count": null,
      "outputs": [
        {
          "output_type": "execute_result",
          "data": {
            "text/plain": [
              "27"
            ]
          },
          "metadata": {},
          "execution_count": 37
        }
      ]
    },
    {
      "cell_type": "markdown",
      "source": [
        "## **🛝 Practice Playground** - Section 6\n",
        "\n",
        "Using Python libraries boosts your coding efficiency significantly, allowing you to execute complex tasks effectively and accurately with just a few lines of code. Libraries such as numpy for numerical operations, pandas for data manipulation, matplotlib for plotting graphs, and scikit-learn for machine learning are cornerstones of Python programming. And we will dive into each of these in our next few modules! There is no need to memorize all of this; just learn what is possible!"
      ],
      "metadata": {
        "id": "Zg_VJ3ljxACX"
      }
    },
    {
      "cell_type": "code",
      "source": [
        "# Run this cell!\n",
        "\n",
        "import math\n",
        "\n",
        "def calculate_circle_area(radius):\n",
        "    return math.pi * radius ** 2"
      ],
      "metadata": {
        "id": "nFuXzgbnxEMP"
      },
      "execution_count": null,
      "outputs": []
    },
    {
      "cell_type": "code",
      "source": [
        "# Run this cell!\n",
        "\n",
        "area = calculate_circle_area(5)\n",
        "\n",
        "print(f\"The area of the circle is: {area:.4f}\")"
      ],
      "metadata": {
        "id": "UbNwPqcpxE-6",
        "colab": {
          "base_uri": "https://localhost:8080/"
        },
        "outputId": "a1bb44f6-7dc0-43f3-df56-9a94531d8ca0"
      },
      "execution_count": null,
      "outputs": [
        {
          "output_type": "stream",
          "name": "stdout",
          "text": [
            "The area of the circle is: 78.5398\n"
          ]
        }
      ]
    },
    {
      "cell_type": "code",
      "source": [
        "# Run this cell!\n",
        "\n",
        "from datetime import datetime\n",
        "\n",
        "def days_between(d1, d2):\n",
        "    date1 = datetime.strptime(d1, \"%Y-%m-%d\")\n",
        "    date2 = datetime.strptime(d2, \"%Y-%m-%d\")\n",
        "    return abs((date2 - date1).days)"
      ],
      "metadata": {
        "id": "AzkHOmHbxE9G"
      },
      "execution_count": null,
      "outputs": []
    },
    {
      "cell_type": "code",
      "source": [
        "# Run this cell!\n",
        "\n",
        "days = days_between('2023-07-01', '2024-08-23')\n",
        "print(f'Number of days: {days}')"
      ],
      "metadata": {
        "id": "Pl9tTi6dxE7J",
        "colab": {
          "base_uri": "https://localhost:8080/"
        },
        "outputId": "0f8e5ad1-54bd-40e5-db94-a92252705a56"
      },
      "execution_count": null,
      "outputs": [
        {
          "output_type": "stream",
          "name": "stdout",
          "text": [
            "Number of days: 419\n"
          ]
        }
      ]
    },
    {
      "cell_type": "code",
      "source": [
        "# Run this cell!\n",
        "\n",
        "import random\n",
        "\n",
        "def get_random_number(min_val, max_val):\n",
        "    # Generate a random integer between min_val and max_val\n",
        "    random_number = random.randint(min_val, max_val)\n",
        "    return random_number"
      ],
      "metadata": {
        "id": "HeVIk76lxE5T"
      },
      "execution_count": null,
      "outputs": []
    },
    {
      "cell_type": "code",
      "source": [
        "# Run this cell!\n",
        "\n",
        "random_result = get_random_number(1, 100)\n",
        "print(f'Random number between 1 and 100: {random_result}')"
      ],
      "metadata": {
        "id": "iKGeXpEPxE1q",
        "colab": {
          "base_uri": "https://localhost:8080/"
        },
        "outputId": "b58a0759-6b33-4315-a993-a2dd1da489f0"
      },
      "execution_count": null,
      "outputs": [
        {
          "output_type": "stream",
          "name": "stdout",
          "text": [
            "Random number between 1 and 100: 34\n"
          ]
        }
      ]
    }
  ],
  "metadata": {
    "anaconda-cloud": {},
    "colab": {
      "provenance": []
    },
    "kernelspec": {
      "display_name": "Python 3 (ipykernel)",
      "language": "python",
      "name": "python3"
    },
    "language_info": {
      "codemirror_mode": {
        "name": "ipython",
        "version": 3
      },
      "file_extension": ".py",
      "mimetype": "text/x-python",
      "name": "python",
      "nbconvert_exporter": "python",
      "pygments_lexer": "ipython3",
      "version": "3.11.7"
    }
  },
  "nbformat": 4,
  "nbformat_minor": 0
}