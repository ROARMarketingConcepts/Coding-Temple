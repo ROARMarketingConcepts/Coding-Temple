{
  "cells": [
    {
      "cell_type": "markdown",
      "metadata": {
        "id": "3E2D_PWb6BdA"
      },
      "source": [
        "<div>\n",
        "<img src=\"https://coursereport-s3-production.global.ssl.fastly.net/uploads/school/logo/219/original/CT_LOGO_NEW.jpg\" width=60>\n",
        "</div>\n",
        "\n",
        "#  **List Comprehensions**\n",
        "\n",
        "*Be sure to be following along with the lesson page before progressing in this notebook!*"
      ]
    },
    {
      "cell_type": "markdown",
      "source": [
        "## **🛝 Practice Playground** - Section 1\n",
        "Sometimes the best way to grasp list comprehensions is through a variety of examples that illustrate their efficiency and elegance. By examining different cases, you can see how list comprehensions streamline the code and often make it more readable compared to traditional for loops."
      ],
      "metadata": {
        "id": "YOUiHU27y0mn"
      }
    },
    {
      "cell_type": "markdown",
      "source": [
        "### **Example 1:** Creating a List of Squares"
      ],
      "metadata": {
        "id": "APcIWjQh07yk"
      }
    },
    {
      "cell_type": "markdown",
      "source": [
        "#### **Using a For Loop**"
      ],
      "metadata": {
        "id": "9q_IsTP11JLJ"
      }
    },
    {
      "cell_type": "code",
      "execution_count": null,
      "metadata": {
        "id": "ZvzqVRb86BdP",
        "colab": {
          "base_uri": "https://localhost:8080/"
        },
        "outputId": "f0181ce5-a110-4ded-84b4-6910d14846dc"
      },
      "outputs": [
        {
          "output_type": "execute_result",
          "data": {
            "text/plain": [
              "[0, 1, 4, 9, 16, 25, 36, 49, 64, 81]"
            ]
          },
          "metadata": {},
          "execution_count": 1
        }
      ],
      "source": [
        "# Run this cell!\n",
        "\n",
        "squares = []\n",
        "for i in range(10):\n",
        "    squares.append(i * i)\n",
        "\n",
        "squares"
      ]
    },
    {
      "cell_type": "markdown",
      "source": [
        "#### **Using a List Comp**"
      ],
      "metadata": {
        "id": "rZRRvj1p1aQG"
      }
    },
    {
      "cell_type": "code",
      "execution_count": null,
      "metadata": {
        "id": "YbetqlU_6BdP",
        "colab": {
          "base_uri": "https://localhost:8080/"
        },
        "outputId": "56c0ae40-b53f-4e11-ba8e-1806ba0e2aac"
      },
      "outputs": [
        {
          "output_type": "execute_result",
          "data": {
            "text/plain": [
              "[0, 1, 4, 9, 16, 25, 36, 49, 64, 81]"
            ]
          },
          "metadata": {},
          "execution_count": 2
        }
      ],
      "source": [
        "# Run this cell!\n",
        "\n",
        "squares = [i * i for i in range(10)]\n",
        "\n",
        "squares"
      ]
    },
    {
      "cell_type": "markdown",
      "source": [
        "### **Example 2:** Creating a List of Squares"
      ],
      "metadata": {
        "id": "e0_gcEzE1fEL"
      }
    },
    {
      "cell_type": "markdown",
      "source": [
        "#### **Using a For Loop**"
      ],
      "metadata": {
        "id": "RfMMOs191fEV"
      }
    },
    {
      "cell_type": "code",
      "execution_count": null,
      "metadata": {
        "id": "C5r6I1X71fEV",
        "colab": {
          "base_uri": "https://localhost:8080/"
        },
        "outputId": "70af6de5-f479-4bce-ed0c-1f80d88011a8"
      },
      "outputs": [
        {
          "output_type": "execute_result",
          "data": {
            "text/plain": [
              "[0, 2, 4, 6, 8]"
            ]
          },
          "metadata": {},
          "execution_count": 3
        }
      ],
      "source": [
        "# Run this cell!\n",
        "evens = []\n",
        "for i in range(10):\n",
        "    if i % 2 == 0:\n",
        "        evens.append(i)\n",
        "\n",
        "evens"
      ]
    },
    {
      "cell_type": "markdown",
      "source": [
        "#### **Using a List Comp**"
      ],
      "metadata": {
        "id": "-THFQz1E1fEV"
      }
    },
    {
      "cell_type": "code",
      "execution_count": null,
      "metadata": {
        "id": "we8gPWF91fEW",
        "colab": {
          "base_uri": "https://localhost:8080/"
        },
        "outputId": "5c0ff2e7-f5d7-42b7-99b1-4f3b853e80b2"
      },
      "outputs": [
        {
          "output_type": "execute_result",
          "data": {
            "text/plain": [
              "[0, 2, 4, 6, 8]"
            ]
          },
          "metadata": {},
          "execution_count": 4
        }
      ],
      "source": [
        "# Run this cell!\n",
        "evens = [i for i in range(10) if i % 2 == 0]\n",
        "\n",
        "evens"
      ]
    },
    {
      "cell_type": "markdown",
      "source": [
        "### **Example 3:** Convert Temperatures"
      ],
      "metadata": {
        "id": "q4FZBADJ1jnR"
      }
    },
    {
      "cell_type": "markdown",
      "source": [
        "#### **Using a For Loop**"
      ],
      "metadata": {
        "id": "zvF61VG51jnS"
      }
    },
    {
      "cell_type": "code",
      "execution_count": null,
      "metadata": {
        "id": "inRX6pvm1jnS",
        "colab": {
          "base_uri": "https://localhost:8080/"
        },
        "outputId": "f5dfc6f6-e6b7-4d48-be59-4f89808e676a"
      },
      "outputs": [
        {
          "output_type": "execute_result",
          "data": {
            "text/plain": [
              "[32.0, 50.0, 68.0, 94.1]"
            ]
          },
          "metadata": {},
          "execution_count": 5
        }
      ],
      "source": [
        "# Run this cell!\n",
        "celsius = [0, 10, 20, 34.5]\n",
        "fahrenheit = []\n",
        "for temp in celsius:\n",
        "    fahrenheit.append((temp * 9/5) + 32)\n",
        "\n",
        "fahrenheit"
      ]
    },
    {
      "cell_type": "markdown",
      "source": [
        "#### **Using a List Comp**"
      ],
      "metadata": {
        "id": "rzEpZoZR1jnS"
      }
    },
    {
      "cell_type": "code",
      "execution_count": null,
      "metadata": {
        "id": "UZCQaKUy1jnS",
        "colab": {
          "base_uri": "https://localhost:8080/"
        },
        "outputId": "df0cfc44-5a80-41b6-ec9a-8a9ad7edcef1"
      },
      "outputs": [
        {
          "output_type": "execute_result",
          "data": {
            "text/plain": [
              "[32.0, 50.0, 68.0, 94.1]"
            ]
          },
          "metadata": {},
          "execution_count": 6
        }
      ],
      "source": [
        "# Run this cell!\n",
        "fahrenheit = [(temp * 9/5) + 32 for temp in celsius]\n",
        "\n",
        "fahrenheit"
      ]
    },
    {
      "cell_type": "markdown",
      "source": [
        "### **Example 4:** Concatenating Strings from a List"
      ],
      "metadata": {
        "id": "iew-N7_a1mF3"
      }
    },
    {
      "cell_type": "markdown",
      "source": [
        "#### **Using a For Loop**"
      ],
      "metadata": {
        "id": "FRDiHZWN1mF4"
      }
    },
    {
      "cell_type": "code",
      "execution_count": null,
      "metadata": {
        "id": "GGRHkWqI1mF4",
        "colab": {
          "base_uri": "https://localhost:8080/",
          "height": 35
        },
        "outputId": "d6a09538-4aec-47a9-dff4-0050c2046005"
      },
      "outputs": [
        {
          "output_type": "execute_result",
          "data": {
            "text/plain": [
              "'Hello world from Python'"
            ],
            "application/vnd.google.colaboratory.intrinsic+json": {
              "type": "string"
            }
          },
          "metadata": {},
          "execution_count": 9
        }
      ],
      "source": [
        "# Run this cell!\n",
        "words = ['Hello', 'world', 'from', 'Python']\n",
        "sentence = ''\n",
        "for word in words:\n",
        "    sentence += word + ' '\n",
        "\n",
        "sentence.strip()"
      ]
    },
    {
      "cell_type": "markdown",
      "source": [
        "#### **Using a List Comp**"
      ],
      "metadata": {
        "id": "aKZQ6s3g1mF4"
      }
    },
    {
      "cell_type": "code",
      "execution_count": null,
      "metadata": {
        "id": "7orQdnj31mF4",
        "colab": {
          "base_uri": "https://localhost:8080/",
          "height": 35
        },
        "outputId": "23e250d0-cd46-454d-b95d-1a496e342f6b"
      },
      "outputs": [
        {
          "output_type": "execute_result",
          "data": {
            "text/plain": [
              "'Hello world from Python'"
            ],
            "application/vnd.google.colaboratory.intrinsic+json": {
              "type": "string"
            }
          },
          "metadata": {},
          "execution_count": 10
        }
      ],
      "source": [
        "# Run this cell!\n",
        "sentence = ' '.join([word for word in words])\n",
        "\n",
        "sentence"
      ]
    },
    {
      "cell_type": "markdown",
      "source": [
        "### **Example 5:** Filtering and Transforming Data"
      ],
      "metadata": {
        "id": "ovckbvqo1miK"
      }
    },
    {
      "cell_type": "markdown",
      "source": [
        "#### **Using a For Loop**"
      ],
      "metadata": {
        "id": "gZqetLn31miK"
      }
    },
    {
      "cell_type": "code",
      "execution_count": null,
      "metadata": {
        "id": "EPz93ji61miL",
        "colab": {
          "base_uri": "https://localhost:8080/"
        },
        "outputId": "d731caab-ca39-429d-c76a-2c16648146d1"
      },
      "outputs": [
        {
          "output_type": "execute_result",
          "data": {
            "text/plain": [
              "[2, 6, 10]"
            ]
          },
          "metadata": {},
          "execution_count": 11
        }
      ],
      "source": [
        "# Run this cell!\n",
        "original_list = [1, -2, 3, -4, 5]\n",
        "positive_doubled = []\n",
        "for number in original_list:\n",
        "    if number > 0:\n",
        "        positive_doubled.append(number * 2)\n",
        "\n",
        "positive_doubled"
      ]
    },
    {
      "cell_type": "markdown",
      "source": [
        "#### **Using a List Comp**"
      ],
      "metadata": {
        "id": "sYUELD8Q1miL"
      }
    },
    {
      "cell_type": "code",
      "execution_count": null,
      "metadata": {
        "id": "A_IrGRlF1miL",
        "colab": {
          "base_uri": "https://localhost:8080/"
        },
        "outputId": "a12286c3-faf3-496c-d758-242a390ee2ae"
      },
      "outputs": [
        {
          "output_type": "execute_result",
          "data": {
            "text/plain": [
              "[2, 6, 10]"
            ]
          },
          "metadata": {},
          "execution_count": 12
        }
      ],
      "source": [
        "# Run this cell!\n",
        "positive_doubled = [number * 2 for number in original_list if number > 0]\n",
        "\n",
        "positive_doubled"
      ]
    },
    {
      "cell_type": "markdown",
      "source": [
        "### **Example 6:** Fruits with the Letter \"a\" in the Name"
      ],
      "metadata": {
        "id": "lJBk-ikF1m3s"
      }
    },
    {
      "cell_type": "markdown",
      "source": [
        "#### **Using a For Loop**"
      ],
      "metadata": {
        "id": "u41UGNe21m3s"
      }
    },
    {
      "cell_type": "code",
      "execution_count": null,
      "metadata": {
        "id": "rk8WM6Ey1m3t",
        "colab": {
          "base_uri": "https://localhost:8080/"
        },
        "outputId": "e9fba8b7-e5e1-472c-a137-1b4308451518"
      },
      "outputs": [
        {
          "output_type": "execute_result",
          "data": {
            "text/plain": [
              "['apple', 'banana', 'mango']"
            ]
          },
          "metadata": {},
          "execution_count": 13
        }
      ],
      "source": [
        "# Run this cell!\n",
        "\n",
        "fruits = [\"apple\", \"banana\", \"cherry\", \"kiwi\", \"mango\"]\n",
        "new_list = []\n",
        "\n",
        "for x in fruits:\n",
        "  if \"a\" in x:\n",
        "    new_list.append(x)\n",
        "\n",
        "new_list"
      ]
    },
    {
      "cell_type": "markdown",
      "source": [
        "#### **Using a List Comp**"
      ],
      "metadata": {
        "id": "BEgw2t5N1m3t"
      }
    },
    {
      "cell_type": "code",
      "execution_count": null,
      "metadata": {
        "id": "HAiaQS5Z1m3t",
        "colab": {
          "base_uri": "https://localhost:8080/"
        },
        "outputId": "3d5edcde-2de8-4d70-aea9-bdce6cd0238f"
      },
      "outputs": [
        {
          "output_type": "execute_result",
          "data": {
            "text/plain": [
              "['apple', 'banana', 'mango']"
            ]
          },
          "metadata": {},
          "execution_count": 14
        }
      ],
      "source": [
        "# Run this cell!\n",
        "\n",
        "fruits = [\"apple\", \"banana\", \"cherry\", \"kiwi\", \"mango\"]\n",
        "\n",
        "new_list = [x for x in fruits if \"a\" in x]\n",
        "\n",
        "new_list"
      ]
    },
    {
      "cell_type": "markdown",
      "source": [
        "## **🛝 Practice Playground** - Section 2\n",
        "Sometimes the best way to grasp list comprehensions is through a variety of examples that illustrate their efficiency and elegance. By examining different cases, you can see how list comprehensions streamline the code and often make it more readable compared to traditional for loops."
      ],
      "metadata": {
        "id": "fzuiCefE3Pqm"
      }
    },
    {
      "cell_type": "markdown",
      "metadata": {
        "id": "of7wX02p3R9C"
      },
      "source": [
        "#### **Exercise 1**\n",
        "What is the sum of the squares of the first 100 integers? That is, what is:\n",
        "\n",
        "$$1^2 + 2^2 + 3^2 + \\cdots + 100^2$$\n",
        "\n",
        "_Hint:_ You can use the `sum()` function."
      ]
    },
    {
      "cell_type": "code",
      "source": [
        "# For Loop\n",
        "\n",
        "squared_list = []\n",
        "\n",
        "for num in range(1, 101):\n",
        "  squared_list.append(num**2)\n",
        "\n",
        "sum(squared_list)"
      ],
      "metadata": {
        "id": "FqSi7_Pn3R9C",
        "colab": {
          "base_uri": "https://localhost:8080/"
        },
        "outputId": "5065de51-d42a-4491-e654-c67ecadc023a"
      },
      "execution_count": null,
      "outputs": [
        {
          "output_type": "execute_result",
          "data": {
            "text/plain": [
              "338350"
            ]
          },
          "metadata": {},
          "execution_count": 19
        }
      ]
    },
    {
      "cell_type": "code",
      "execution_count": null,
      "metadata": {
        "id": "-FofwI_F3R9C",
        "colab": {
          "base_uri": "https://localhost:8080/"
        },
        "outputId": "b27429fe-0e2a-464c-a936-e721f3330555"
      },
      "outputs": [
        {
          "output_type": "execute_result",
          "data": {
            "text/plain": [
              "338350"
            ]
          },
          "metadata": {},
          "execution_count": 20
        }
      ],
      "source": [
        "# List Comp\n",
        "\n",
        "sum([n**2 for n in range(1, 101)])"
      ]
    },
    {
      "cell_type": "markdown",
      "metadata": {
        "id": "Q7G-7PSn3R9D"
      },
      "source": [
        "#### **Exercise 2**\n",
        "Given the list of survey responses, reduce this list to the capital(!) first letter of each so we can get uniform results."
      ]
    },
    {
      "cell_type": "code",
      "execution_count": null,
      "metadata": {
        "id": "NGBVccmc3R9D"
      },
      "outputs": [],
      "source": [
        "results = ['yes', 'no', 'Yeah', 'nope', 'Nah', 'YES!!!', 'Ya', 'No way!', 'no thank you']"
      ]
    },
    {
      "cell_type": "code",
      "source": [
        "# For Loop\n",
        "\n",
        "my_list = []\n",
        "\n",
        "for result in results:\n",
        "  my_list.append(result[0].upper())\n",
        "\n",
        "my_list"
      ],
      "metadata": {
        "id": "XY46rtm_3R9D",
        "colab": {
          "base_uri": "https://localhost:8080/"
        },
        "outputId": "313014c0-f7ca-4af3-b89c-ef55ae3417b5"
      },
      "execution_count": null,
      "outputs": [
        {
          "output_type": "execute_result",
          "data": {
            "text/plain": [
              "['Y', 'N', 'Y', 'N', 'N', 'Y', 'Y', 'N', 'N']"
            ]
          },
          "metadata": {},
          "execution_count": 22
        }
      ]
    },
    {
      "cell_type": "code",
      "execution_count": null,
      "metadata": {
        "id": "XnKkmR1-3R9D",
        "colab": {
          "base_uri": "https://localhost:8080/"
        },
        "outputId": "49d164a3-f2cf-48e3-88e5-68051cc0e0b0"
      },
      "outputs": [
        {
          "output_type": "execute_result",
          "data": {
            "text/plain": [
              "['Y', 'N', 'Y', 'N', 'N', 'Y', 'Y', 'N', 'N']"
            ]
          },
          "metadata": {},
          "execution_count": 23
        }
      ],
      "source": [
        "# List Comp\n",
        "\n",
        "my_list = [res[0].upper() for res in results]\n",
        "my_list"
      ]
    },
    {
      "cell_type": "markdown",
      "metadata": {
        "id": "UNrQ24E43R9D"
      },
      "source": [
        "#### **Exercise 3**\n",
        "Given the list of names, create a list of only their last names"
      ]
    },
    {
      "cell_type": "code",
      "execution_count": null,
      "metadata": {
        "id": "V4iKPBwN3R9D"
      },
      "outputs": [],
      "source": [
        "names = ['Tim Book', 'Ed Salinas', 'Hunter Wallen', 'Paul Stromberg', 'Steph Laraway']"
      ]
    },
    {
      "cell_type": "code",
      "source": [
        "# For Loop\n",
        "\n",
        "last_names = []\n",
        "\n",
        "for name in names:\n",
        "  last_names.append(name.split()[1])\n",
        "\n",
        "last_names"
      ],
      "metadata": {
        "id": "0trc-xTi3R9D",
        "colab": {
          "base_uri": "https://localhost:8080/"
        },
        "outputId": "e0babf9b-d208-485d-a7f2-a90be778ef3c"
      },
      "execution_count": null,
      "outputs": [
        {
          "output_type": "execute_result",
          "data": {
            "text/plain": [
              "['Book', 'Salinas', 'Wallen', 'Stromberg', 'Laraway']"
            ]
          },
          "metadata": {},
          "execution_count": 28
        }
      ]
    },
    {
      "cell_type": "code",
      "execution_count": null,
      "metadata": {
        "id": "3N1wacE93R9D",
        "colab": {
          "base_uri": "https://localhost:8080/"
        },
        "outputId": "f2051697-0bee-479f-b1e1-8f805cb5cbb6"
      },
      "outputs": [
        {
          "output_type": "execute_result",
          "data": {
            "text/plain": [
              "['Book', 'Salinas', 'Wallen', 'Stromberg', 'Laraway']"
            ]
          },
          "metadata": {},
          "execution_count": 29
        }
      ],
      "source": [
        "# List Comp\n",
        "\n",
        "last_names = [name.split()[1] for name in names]\n",
        "last_names"
      ]
    },
    {
      "cell_type": "markdown",
      "metadata": {
        "id": "r8O00Trm3R9E"
      },
      "source": [
        "#### **Exercise 4**\n",
        "Filter this list down to only even numbers."
      ]
    },
    {
      "cell_type": "code",
      "execution_count": null,
      "metadata": {
        "id": "ULXpiEcT3R9E"
      },
      "outputs": [],
      "source": [
        "numbers = [1, 4, 7, 2, 8, 11, 20]"
      ]
    },
    {
      "cell_type": "code",
      "source": [
        "# List Comp\n",
        "\n",
        "evens_only = [i for i in numbers if i % 2 == 0]\n",
        "evens_only"
      ],
      "metadata": {
        "id": "so7-K3lf3-v0"
      },
      "execution_count": null,
      "outputs": []
    },
    {
      "cell_type": "markdown",
      "metadata": {
        "id": "rCDu_o6j3R9E"
      },
      "source": [
        "#### **Exercise 5**\n",
        "Select only the months that end in y."
      ]
    },
    {
      "cell_type": "code",
      "execution_count": null,
      "metadata": {
        "id": "cGbEKcWa3R9E"
      },
      "outputs": [],
      "source": [
        "months = [\n",
        "    'January', 'February', 'March', 'April', 'May', 'June',\n",
        "    'July', 'August', 'September', 'October', 'November', 'December'\n",
        "]"
      ]
    },
    {
      "cell_type": "code",
      "execution_count": null,
      "metadata": {
        "id": "NEaIYFgz3R9E",
        "colab": {
          "base_uri": "https://localhost:8080/"
        },
        "outputId": "5adfa7d9-b1ba-4d06-8bed-3823d523370b"
      },
      "outputs": [
        {
          "output_type": "execute_result",
          "data": {
            "text/plain": [
              "['January', 'February', 'May', 'July']"
            ]
          },
          "metadata": {},
          "execution_count": 36
        }
      ],
      "source": [
        "# List Comp\n",
        "\n",
        "[month for month in months if month[-1] == 'y']"
      ]
    },
    {
      "cell_type": "markdown",
      "metadata": {
        "id": "hDcrljUq3R9E"
      },
      "source": [
        "#### **Exercise 6**\n",
        "Select only the months that **don't** end in y. Also, only show their 3-letter abbreviations (the first 3 letters of the month name).\n",
        "\n",
        "That is, the first 3 elements of your answer should be: `Mar`, `Apr`, `Jun`."
      ]
    },
    {
      "cell_type": "code",
      "execution_count": null,
      "metadata": {
        "id": "QoJdBpHP3R9E",
        "colab": {
          "base_uri": "https://localhost:8080/"
        },
        "outputId": "00265d45-78de-4c1b-82af-b4fc7e9e5e86"
      },
      "outputs": [
        {
          "output_type": "execute_result",
          "data": {
            "text/plain": [
              "['Mar', 'Apr', 'Jun', 'Aug', 'Sep', 'Oct', 'Nov', 'Dec']"
            ]
          },
          "metadata": {},
          "execution_count": 37
        }
      ],
      "source": [
        "# List Comp\n",
        "\n",
        "[month[:3] for month in months if month[-1] != 'y']"
      ]
    },
    {
      "cell_type": "markdown",
      "source": [
        "## **🛝 Practice Playground** - Section 3\n",
        "Dictionary comprehensions in Python are a concise way to create dictionaries. This technique is especially useful for transforming one dictionary into another by applying expressions to the keys and values of each item."
      ],
      "metadata": {
        "id": "XjEWIV-W6WOy"
      }
    },
    {
      "cell_type": "code",
      "source": [
        "# Run this cell!\n",
        "\n",
        "names_to_ages = {'Alice': 32, 'Bob': 36, 'Charlie': 28}"
      ],
      "metadata": {
        "id": "kt-BQYzv6aYJ"
      },
      "execution_count": null,
      "outputs": []
    },
    {
      "cell_type": "code",
      "source": [
        "# Run this cell!\n",
        "\n",
        "ages_to_names = {value: key for key, value in names_to_ages.items()}\n",
        "ages_to_names"
      ],
      "metadata": {
        "id": "rPzgdtL-6efp",
        "colab": {
          "base_uri": "https://localhost:8080/"
        },
        "outputId": "b56d8c9d-117b-4a02-eda6-dd6e1d9ef7d5"
      },
      "execution_count": null,
      "outputs": [
        {
          "output_type": "execute_result",
          "data": {
            "text/plain": [
              "{32: 'Alice', 36: 'Bob', 28: 'Charlie'}"
            ]
          },
          "metadata": {},
          "execution_count": 16
        }
      ]
    },
    {
      "cell_type": "code",
      "source": [
        "# Run this cell!\n",
        "\n",
        "employees = {'Alice': 'Engineer', 'Bob': 'Manager', 'Charlie': 'Clerk'}"
      ],
      "metadata": {
        "id": "680z6skE6edw"
      },
      "execution_count": null,
      "outputs": []
    },
    {
      "cell_type": "code",
      "source": [
        "# Run this cell!\n",
        "\n",
        "updated_employees = {key: value + \" Staff\" for key, value in employees.items()}\n",
        "updated_employees"
      ],
      "metadata": {
        "id": "tkHbltNX6eb3",
        "colab": {
          "base_uri": "https://localhost:8080/"
        },
        "outputId": "d5050c8b-bdbe-419d-f493-8cae35f50a37"
      },
      "execution_count": null,
      "outputs": [
        {
          "output_type": "execute_result",
          "data": {
            "text/plain": [
              "{'Alice': 'Engineer Staff', 'Bob': 'Manager Staff', 'Charlie': 'Clerk Staff'}"
            ]
          },
          "metadata": {},
          "execution_count": 18
        }
      ]
    }
  ],
  "metadata": {
    "anaconda-cloud": {},
    "colab": {
      "provenance": []
    },
    "kernelspec": {
      "display_name": "Python 3 (ipykernel)",
      "language": "python",
      "name": "python3"
    },
    "language_info": {
      "codemirror_mode": {
        "name": "ipython",
        "version": 3
      },
      "file_extension": ".py",
      "mimetype": "text/x-python",
      "name": "python",
      "nbconvert_exporter": "python",
      "pygments_lexer": "ipython3",
      "version": "3.11.7"
    }
  },
  "nbformat": 4,
  "nbformat_minor": 0
}