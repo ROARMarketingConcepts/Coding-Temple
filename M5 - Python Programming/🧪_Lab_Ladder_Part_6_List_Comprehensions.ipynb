{
  "cells": [
    {
      "cell_type": "markdown",
      "metadata": {
        "id": "1xbyIYOxEjtO"
      },
      "source": [
        "<div>\n",
        "<img src=\"https://coursereport-s3-production.global.ssl.fastly.net/uploads/school/logo/219/original/CT_LOGO_NEW.jpg\" width=60>\n",
        "</div>\n",
        "\n",
        "# **Python Ladder Challenges - List Comprehensions**"
      ]
    },
    {
      "cell_type": "markdown",
      "metadata": {
        "id": "KnVBAM15EjtU"
      },
      "source": [
        "# Climb the Ladder!\n",
        "Welcome to Part 6 of our ladder! Our class moves quickly! Sometimes, it feels like we make leaps in logic that are a bit too big. Learn Python _slowly_, by doing many, many examples. Problems in this notebook start out easy and progressively get harder, so that the next rung of the Python ladder is always within reach."
      ]
    },
    {
      "cell_type": "markdown",
      "metadata": {
        "id": "dSiUBAszE9qE"
      },
      "source": [
        "# Section IX: List Comprehensions\n",
        "\n",
        "**Disclaimer:** Many (maybe all) of these exercises can be done without a list comprehension. However, list comps are often the easiest way to solve a problem like this. List comps are also optimized in Python, meaning they are also often the _fastest_ way to solve a problem. In fact, **every problem in this section can be solved in one line of code!**\n",
        "\n",
        "---\n",
        "**IMPORTANT NOTE: Consider all ranges in this section to be *inclusive*.**"
      ]
    },
    {
      "cell_type": "markdown",
      "metadata": {
        "id": "goVp3bgTE9qE"
      },
      "source": [
        "65) Create a list of the numbers 1 through 10."
      ]
    },
    {
      "cell_type": "code",
      "execution_count": null,
      "metadata": {
        "id": "2WuG_PvBE9qE",
        "colab": {
          "base_uri": "https://localhost:8080/"
        },
        "outputId": "988ef6fa-0eb2-480a-c8fd-c45693f5b7a3"
      },
      "outputs": [
        {
          "output_type": "stream",
          "name": "stdout",
          "text": [
            "[0, 1, 2, 3, 4, 5, 6, 7, 8, 9, 10]\n"
          ]
        }
      ],
      "source": [
        "n = [i for i in range(10 + 1)]\n",
        "print(n)"
      ]
    },
    {
      "cell_type": "markdown",
      "metadata": {
        "id": "MnrDge5JE9qF"
      },
      "source": [
        "66) Create a list of the squares of the numbers between 1 and 10."
      ]
    },
    {
      "cell_type": "code",
      "execution_count": null,
      "metadata": {
        "id": "nSGh2qVWE9qF",
        "colab": {
          "base_uri": "https://localhost:8080/"
        },
        "outputId": "ece3cd6b-4d2f-4bc6-d95b-668ffd71a7ee"
      },
      "outputs": [
        {
          "output_type": "stream",
          "name": "stdout",
          "text": [
            "[0, 1, 4, 9, 16, 25, 36, 49, 64, 81, 100]\n"
          ]
        }
      ],
      "source": [
        "n = [i**2 for i in range(10 + 1)]\n",
        "print(n)"
      ]
    },
    {
      "cell_type": "markdown",
      "metadata": {
        "id": "T2T3A0-jE9qF"
      },
      "source": [
        "67) Create a list of all the even numbers between 18 and 47."
      ]
    },
    {
      "cell_type": "code",
      "execution_count": null,
      "metadata": {
        "id": "jLfz9KphE9qF",
        "colab": {
          "base_uri": "https://localhost:8080/"
        },
        "outputId": "8c317ee7-fc74-4d69-ccc8-55de2402f4fc"
      },
      "outputs": [
        {
          "output_type": "stream",
          "name": "stdout",
          "text": [
            "[18, 20, 22, 24, 26, 28, 30, 32, 34, 36, 38, 40, 42, 44, 46]\n"
          ]
        }
      ],
      "source": [
        "even_numbers = [i for i in range(18, 47 + 1) if i % 2 == 0]\n",
        "print(even_numbers)"
      ]
    },
    {
      "cell_type": "markdown",
      "metadata": {
        "id": "CU_WYm9rE9qG"
      },
      "source": [
        "68) Create a list of the squares of the even numbers between 1 and 20."
      ]
    },
    {
      "cell_type": "code",
      "execution_count": null,
      "metadata": {
        "id": "FETznpeBE9qG",
        "colab": {
          "base_uri": "https://localhost:8080/"
        },
        "outputId": "5e218b53-9d32-4542-b670-02cc6e82720b"
      },
      "outputs": [
        {
          "output_type": "stream",
          "name": "stdout",
          "text": [
            "[4, 16, 36, 64, 100, 144, 196, 256, 324, 400]\n"
          ]
        }
      ],
      "source": [
        "even_numbers = [i**2 for i in range(1, 21) if i % 2 == 0]\n",
        "print(even_numbers)"
      ]
    },
    {
      "cell_type": "markdown",
      "metadata": {
        "id": "eBe4MjXYE9qG"
      },
      "source": [
        "69) What is the sum of the cubes of the numbers between 7 and 37?"
      ]
    },
    {
      "cell_type": "code",
      "execution_count": null,
      "metadata": {
        "id": "lUj_uVN1E9qG",
        "colab": {
          "base_uri": "https://localhost:8080/"
        },
        "outputId": "acaee4d8-29ab-41ad-c4e3-623620335b4d"
      },
      "outputs": [
        {
          "output_type": "stream",
          "name": "stdout",
          "text": [
            "493768\n"
          ]
        }
      ],
      "source": [
        "cubes = [i**3 for i in range(7, 38)]\n",
        "print(sum(cubes))"
      ]
    },
    {
      "cell_type": "markdown",
      "metadata": {
        "id": "p-pO4walE9qG"
      },
      "source": [
        "70) Create a list of all of the numbers divisible by either 3 or 5 (or both) between 1 and 30."
      ]
    },
    {
      "cell_type": "code",
      "execution_count": null,
      "metadata": {
        "id": "wgzMGS-_E9qH",
        "colab": {
          "base_uri": "https://localhost:8080/"
        },
        "outputId": "0ec0f20b-7505-4096-a71d-f5635d442343"
      },
      "outputs": [
        {
          "output_type": "stream",
          "name": "stdout",
          "text": [
            "[3, 5, 6, 9, 10, 12, 15, 18, 20, 21, 24, 25, 27, 30]\n"
          ]
        }
      ],
      "source": [
        "numbers = [i for i in range(1, 31) if i % 3 == 0 or i % 5 == 0]\n",
        "print(numbers)"
      ]
    },
    {
      "cell_type": "markdown",
      "metadata": {
        "id": "jRSzxuSEE9qH"
      },
      "source": [
        "71) Redefine this list to be all uppercase."
      ]
    },
    {
      "cell_type": "code",
      "execution_count": null,
      "metadata": {
        "id": "r-8Tbc9JE9qH"
      },
      "outputs": [],
      "source": [
        "friends = ['Alice', 'Bob', 'Charlie', 'Derek']"
      ]
    },
    {
      "cell_type": "code",
      "execution_count": null,
      "metadata": {
        "id": "ukVNL92XE9qH",
        "colab": {
          "base_uri": "https://localhost:8080/"
        },
        "outputId": "7c9bf611-6bc5-45b0-95e0-d54aa5d9ae07"
      },
      "outputs": [
        {
          "output_type": "stream",
          "name": "stdout",
          "text": [
            "['ALICE', 'BOB', 'CHARLIE', 'DEREK']\n"
          ]
        }
      ],
      "source": [
        "friends_upper = [friend.upper() for friend in friends]\n",
        "print(friends_upper)"
      ]
    },
    {
      "cell_type": "markdown",
      "metadata": {
        "id": "0aAIs4VME9qH"
      },
      "source": [
        "72) Remove all elements from `friends` whose names do not end in a vowel."
      ]
    },
    {
      "cell_type": "code",
      "execution_count": null,
      "metadata": {
        "id": "xqegmuy_E9qI",
        "colab": {
          "base_uri": "https://localhost:8080/"
        },
        "outputId": "2a2c89fb-e5e9-498c-be13-0e280feaeec2"
      },
      "outputs": [
        {
          "output_type": "stream",
          "name": "stdout",
          "text": [
            "['Alice', 'Charlie']\n"
          ]
        }
      ],
      "source": [
        "friend_vowels = [friend for friend in friends if friend[-1] in 'aeiou']\n",
        "print(friend_vowels)"
      ]
    },
    {
      "cell_type": "markdown",
      "metadata": {
        "id": "IiSKNCcgE9qI"
      },
      "source": [
        "73) Take the `sentence` you used earlier and remove the vowels again. This time, using a one-line list comprehension.\n",
        "\n",
        "* _Hint:_ You'll find the `.join()` method to be useful here."
      ]
    },
    {
      "cell_type": "code",
      "execution_count": null,
      "metadata": {
        "id": "a5tARkzlE9qI",
        "colab": {
          "base_uri": "https://localhost:8080/"
        },
        "outputId": "9f8d58ad-f1ff-4b6c-f203-12147e35b6c5"
      },
      "outputs": [
        {
          "output_type": "stream",
          "name": "stdout",
          "text": [
            "AliceCharlie\n"
          ]
        }
      ],
      "source": [
        "sentence = [friend for friend in friends if friend[-1] in 'aeiou']\n",
        "sentence = ''.join(sentence)\n",
        "print(sentence)\n"
      ]
    },
    {
      "cell_type": "markdown",
      "metadata": {
        "id": "4WIRa_1zE9qI"
      },
      "source": [
        "74) You need to access Excel files that have names like `Jan 5.xlsx` or `Mar 15.xlsx`. Create a list of January 1 through January 31 like this. That is, create the list of: `['Jan 1.xlsx', 'Jan 2.xlsx', ... , 'Jan 31.xlsx']`."
      ]
    },
    {
      "cell_type": "code",
      "execution_count": null,
      "metadata": {
        "id": "jhGDGSLTE9qJ",
        "colab": {
          "base_uri": "https://localhost:8080/"
        },
        "outputId": "efdda134-1360-4834-89dd-1577b4ce3b79"
      },
      "outputs": [
        {
          "output_type": "stream",
          "name": "stdout",
          "text": [
            "['Jan 1.xlsx', 'Jan 2.xlsx', 'Jan 3.xlsx', 'Jan 4.xlsx', 'Jan 5.xlsx', 'Jan 6.xlsx', 'Jan 7.xlsx', 'Jan 8.xlsx', 'Jan 9.xlsx', 'Jan 10.xlsx', 'Jan 11.xlsx', 'Jan 12.xlsx', 'Jan 13.xlsx', 'Jan 14.xlsx', 'Jan 15.xlsx', 'Jan 16.xlsx', 'Jan 17.xlsx', 'Jan 18.xlsx', 'Jan 19.xlsx', 'Jan 20.xlsx', 'Jan 21.xlsx', 'Jan 22.xlsx', 'Jan 23.xlsx', 'Jan 24.xlsx', 'Jan 25.xlsx', 'Jan 26.xlsx', 'Jan 27.xlsx', 'Jan 28.xlsx', 'Jan 29.xlsx', 'Jan 30.xlsx', 'Jan 31.xlsx']\n"
          ]
        }
      ],
      "source": [
        "list = [f'Jan {i}.xlsx' for i in range(1, 32)]\n",
        "print(list)"
      ]
    },
    {
      "cell_type": "markdown",
      "metadata": {
        "id": "NWxO968PE9qJ"
      },
      "source": [
        "75) Below is a list of amounts in euros. Create a new list, `dollars`, which is these amounts converted to U.S. dollars. At the time of this writing, there are 1.1 dollars per euro."
      ]
    },
    {
      "cell_type": "code",
      "execution_count": null,
      "metadata": {
        "id": "sr4fpiiHE9qK"
      },
      "outputs": [],
      "source": [
        "euros = [4.50, 6.70, 3.25, 9.99, 12.75, 0.35]"
      ]
    },
    {
      "cell_type": "code",
      "execution_count": null,
      "metadata": {
        "id": "yKzcYH6JE9qL",
        "colab": {
          "base_uri": "https://localhost:8080/"
        },
        "outputId": "78fc0ae0-8e18-4d9d-8f2c-bee6fe381b64"
      },
      "outputs": [
        {
          "output_type": "stream",
          "name": "stdout",
          "text": [
            "[4.95, 7.370000000000001, 3.575, 10.989, 14.025, 0.385]\n"
          ]
        }
      ],
      "source": [
        "dollars = [euro * 1.1 for euro in euros]\n",
        "print(dollars)"
      ]
    },
    {
      "cell_type": "markdown",
      "metadata": {
        "id": "nSExfMKiE9qL"
      },
      "source": [
        "76) Below is a list of heights in inches. In order to ride a roller coaster, you must be at least 5 feet tall (60 inches). Filter this list to be _only_ those heights tall enough to ride."
      ]
    },
    {
      "cell_type": "code",
      "execution_count": null,
      "metadata": {
        "id": "PvCK-DpXE9qM"
      },
      "outputs": [],
      "source": [
        "heights = [71, 48, 55, 65, 68, 60, 58, 53]"
      ]
    },
    {
      "cell_type": "code",
      "execution_count": null,
      "metadata": {
        "id": "FALJjuVhE9qM",
        "colab": {
          "base_uri": "https://localhost:8080/"
        },
        "outputId": "36c1aa85-c636-48fe-aa89-c673ec511ec5"
      },
      "outputs": [
        {
          "output_type": "stream",
          "name": "stdout",
          "text": [
            "[71, 65, 68, 60]\n"
          ]
        }
      ],
      "source": [
        "ride = [height for height in heights if height >= 60]\n",
        "print(ride)"
      ]
    },
    {
      "cell_type": "markdown",
      "metadata": {
        "id": "vRY8s7eIE9qM"
      },
      "source": [
        "77) Repeat the above exercise, except replace the lower heights with a `None` instead of dropping them.\n",
        "* _Hint:_ Python has an in-line `if` statement, sometimes called a _ternary operator_ that you might find useful here. For example:\n",
        "\n",
        "```\n",
        "print(\"Tall enough\" if 72 > 60 else \"Too short\")\n",
        "print(\"Tall enough\" if 52 > 60 else \"Too short\")\n",
        "```"
      ]
    },
    {
      "cell_type": "code",
      "execution_count": null,
      "metadata": {
        "id": "pHkAQyxGE9qN",
        "colab": {
          "base_uri": "https://localhost:8080/"
        },
        "outputId": "d4400888-a243-4bf0-d389-527bb1169f98"
      },
      "outputs": [
        {
          "output_type": "stream",
          "name": "stdout",
          "text": [
            "[71, None, None, 65, 68, 60, None, None]\n"
          ]
        }
      ],
      "source": [
        "coaster = [height if height >= 60 else None for height in heights]\n",
        "print(coaster)"
      ]
    },
    {
      "cell_type": "markdown",
      "metadata": {
        "id": "5O8gyWNmE9qN"
      },
      "source": [
        "78) Here are more heights below. However, this time, the information is contained in a dictionary. Create a list of the names _and ONLY the names_ of the people who are tall enough to ride the roller coaster.\n",
        "\n",
        "* _Hint:_ How can you loop through a dictionary?"
      ]
    },
    {
      "cell_type": "code",
      "execution_count": null,
      "metadata": {
        "id": "uqrN7PExE9qN"
      },
      "outputs": [],
      "source": [
        "people = {\n",
        "    'Aaron': 58,\n",
        "    'Barbara': 66,\n",
        "    'Clarence': 62,\n",
        "    'Donovan': 55,\n",
        "    'Erika': 70,\n",
        "    'Fernando': 72\n",
        "}"
      ]
    },
    {
      "cell_type": "code",
      "execution_count": null,
      "metadata": {
        "id": "369ucObTE9qN",
        "colab": {
          "base_uri": "https://localhost:8080/"
        },
        "outputId": "b711d410-8bd6-4d66-b9d1-e635ddfc2d94"
      },
      "outputs": [
        {
          "output_type": "stream",
          "name": "stdout",
          "text": [
            "{'Barbara': 66, 'Clarence': 62, 'Erika': 70, 'Fernando': 72}\n"
          ]
        }
      ],
      "source": [
        "tall_enough = {name: height for name, height in people.items() if height >= 60}\n",
        "print(tall_enough)"
      ]
    },
    {
      "cell_type": "markdown",
      "metadata": {
        "id": "a9v9126AE9qN"
      },
      "source": [
        "79) Below we have some more data on our classmates. This time, the dictionary values are test scores. A student's final grade is their _maximum_ score on these three tests. Create a list of the students' final grades."
      ]
    },
    {
      "cell_type": "code",
      "execution_count": null,
      "metadata": {
        "id": "5c1JiXKIE9qO"
      },
      "outputs": [],
      "source": [
        "people = {\n",
        "    'Aaron': [87, 52, 78],\n",
        "    'Barbara': [92, 79, 85],\n",
        "    'Clarence': [42, 68, 55],\n",
        "    'Donovan': [95, 100, 87],\n",
        "    'Erika': [62, 88, 47],\n",
        "    'Fernando': [84, 99, 0]\n",
        "}"
      ]
    },
    {
      "cell_type": "code",
      "execution_count": null,
      "metadata": {
        "id": "QiSmCgNYE9qO",
        "colab": {
          "base_uri": "https://localhost:8080/"
        },
        "outputId": "9d4b4061-bbd9-40dd-def9-680f5eea6ab5"
      },
      "outputs": [
        {
          "output_type": "stream",
          "name": "stdout",
          "text": [
            "[87, 92, 68, 100, 88, 99]\n"
          ]
        }
      ],
      "source": [
        "final_grade = [max(scores) for scores in people.values()]\n",
        "print(final_grade)\n"
      ]
    },
    {
      "cell_type": "markdown",
      "metadata": {
        "id": "dFZDnjSaE9qO"
      },
      "source": [
        "80) Repeat the above problem, except create a _dictionary_ of the final scores, where the dictionary keys are the names, and the dictionary values are the final grade.\n",
        "\n",
        "* _Hint:_ You can do **dictionary comprehension** to solve this problem!"
      ]
    },
    {
      "cell_type": "code",
      "execution_count": null,
      "metadata": {
        "id": "HdD4wOAUE9qO",
        "colab": {
          "base_uri": "https://localhost:8080/"
        },
        "outputId": "a5402c13-887b-4029-e5cc-093230fca732"
      },
      "outputs": [
        {
          "output_type": "stream",
          "name": "stdout",
          "text": [
            "{'Aaron': 87, 'Barbara': 92, 'Clarence': 68, 'Donovan': 100, 'Erika': 88, 'Fernando': 99}\n"
          ]
        }
      ],
      "source": [
        "final_grade = {name: max(scores) for name, scores in people.items()}\n",
        "print(final_grade)"
      ]
    },
    {
      "cell_type": "markdown",
      "metadata": {
        "id": "KiQJY0s-E9qO"
      },
      "source": [
        "81) Using the two lists defined below, create the following resulting list:\n",
        "\n",
        "`['AZ', 'BY', 'CX', 'DW', 'EV']`\n",
        "\n",
        "* _Hint:_ Check out the `zip()` function."
      ]
    },
    {
      "cell_type": "code",
      "execution_count": null,
      "metadata": {
        "id": "kP7NRBQcE9qP"
      },
      "outputs": [],
      "source": [
        "letters_a = ['A', 'B', 'C', 'D', 'E']\n",
        "letters_z = ['Z', 'Y', 'X', 'W', 'V']"
      ]
    },
    {
      "cell_type": "code",
      "execution_count": null,
      "metadata": {
        "id": "__EOFojqE9qP",
        "colab": {
          "base_uri": "https://localhost:8080/"
        },
        "outputId": "892b301d-c1b4-436c-b8f6-e75e05b0598b"
      },
      "outputs": [
        {
          "output_type": "stream",
          "name": "stdout",
          "text": [
            "['AZ', 'BY', 'CX', 'DW', 'EV']\n"
          ]
        }
      ],
      "source": [
        "letters = [a + z for a, z in zip(letters_a, letters_z)]\n",
        "print(letters)"
      ]
    },
    {
      "cell_type": "markdown",
      "metadata": {
        "id": "t2M9N5l7E9qP"
      },
      "source": [
        "82) Using `letters_a` defined in the previous problem, create the following list:\n",
        "\n",
        "```\n",
        "[\n",
        "    'A is letter 1 of the alphabet',\n",
        "    'B is letter 2 of the alphabet',\n",
        "    ...\n",
        "]\n",
        "```\n",
        "\n",
        "* _Hint:_ Checkout the `enumerate()` function."
      ]
    },
    {
      "cell_type": "code",
      "execution_count": null,
      "metadata": {
        "id": "gHSs8iVOE9qP",
        "colab": {
          "base_uri": "https://localhost:8080/"
        },
        "outputId": "0959e558-ee0c-41ae-fccd-6aeb72f98a56"
      },
      "outputs": [
        {
          "output_type": "stream",
          "name": "stdout",
          "text": [
            "['A is letter 1 of the alphabet', 'B is letter 2 of the alphabet', 'C is letter 3 of the alphabet', 'D is letter 4 of the alphabet', 'E is letter 5 of the alphabet']\n"
          ]
        }
      ],
      "source": [
        "letters_new_a = [f'{letter} is letter {index + 1} of the alphabet' for index, letter in enumerate(letters_a)]\n",
        "print(letters_new_a)"
      ]
    }
  ],
  "metadata": {
    "colab": {
      "provenance": []
    },
    "kernelspec": {
      "display_name": "Python 3",
      "language": "python",
      "name": "python3"
    },
    "language_info": {
      "codemirror_mode": {
        "name": "ipython",
        "version": 3
      },
      "file_extension": ".py",
      "mimetype": "text/x-python",
      "name": "python",
      "nbconvert_exporter": "python",
      "pygments_lexer": "ipython3",
      "version": "3.8.3"
    }
  },
  "nbformat": 4,
  "nbformat_minor": 0
}